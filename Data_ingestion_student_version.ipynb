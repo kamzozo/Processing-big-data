{
 "cells": [
  {
   "attachments": {},
   "cell_type": "markdown",
   "metadata": {},
   "source": [
    "# Processing Big Data - Data Ingestion\n",
    "© Explore Data Science Academy\n",
    "\n",
    "## Honour Code\n"
   ]
  },
  {
   "cell_type": "markdown",
   "metadata": {},
   "source": [
    "I {**YOUR NAME**, **YOUR SURNAME**}, confirm - by submitting this document - that the solutions in this notebook are a result of my own work and that I abide by the [EDSA honour code](https://drive.google.com/file/d/1QDCjGZJ8-FmJE3bZdIQNwnJyQKPhHZBn/view?usp=sharing).\n",
    "    Non-compliance with the honour code constitutes a material breach of contract.\n",
    "\n",
    "\n",
    "\n",
    "## Context \n",
    "\n",
    "To work constructively with any dataset, one needs to create an ingestion profile to make sure that the data at the source can be readily consumed. For this section of the predict, as the Data Engineer in the team, you will be required to design and implement the ingestion process. For the purposes of the project the AWS cloud storage service, namely, the S3 bucket service will act as your data source. All the data required can be found [here](https://processing-big-data-predict-stocks-data.s3.eu-west-1.amazonaws.com/stocks.zip).\n",
    "\n",
    "<div align=\"center\" style=\"width: 600px; font-size: 80%; text-align: center; margin: 0 auto\">\n",
    "<img src=\"https://raw.githubusercontent.com/Explore-AI/Pictures/master/data_engineering/transform/predict/DataIngestion.jpg\"\n",
    "     alt=\"Data Ingestion\"\n",
    "     style=\"float: center; padding-bottom=0.5em\"\n",
    "     width=40%/>\n",
    "     <p><em>Figure 1. Data Ingestion</em></p>\n",
    "</div>\n",
    "\n",
    "Your manager, Gnissecorp Atadgib, knowing very well that you've recently completed your Data Engineering qualification, asks you to make use of Apache Spark for the ingestion as well as the rest of the project. His rationale being, that stock market data is generated every day and is quite time-sensitive and would require scalability when deploying to a production environment. \n",
    "\n",
    "## Dataset - US Nasdaq\n",
    "\n",
    "\n",
    "\n",
    "\n",
    "<div align=\"center\" style=\"width: 600px; font-size: 80%; text-align: center; margin: 0 auto\">\n",
    "<img src=\"https://raw.githubusercontent.com/Explore-AI/Pictures/master/data_engineering/transform/predict/Nasdaq.png\"\n",
    "     alt=\"Nasdaq\"\n",
    "     style=\"float: center; padding-bottom=0.5em\"\n",
    "     width=50%/>\n",
    "     <p><em>Figure 2. Nasdaq</em></p>\n",
    "</div>\n",
    "\n",
    "The data that you will be working with is a historical snapshot of market data taken from the Nasdaq electronic market. This dataset contains historical daily prices for all tickers currently trading on Nasdaq. The up-to-date list can be found on their [website](https://www.nasdaq.com/)\n",
    "\n",
    "\n",
    "The provided data contains price data dating back from 02 January 1962 up until 01 April 2020. The data found in the S3 bucket has been stored in the following structure:\n",
    "\n",
    "```\n",
    "     stocks/<Year>/<Month>/<Day>/stocks.csv\n",
    "```\n",
    "Each CSV file for every trading day contains the following details:\n",
    "- **Date** - specifies trading date\n",
    "- **Open** - opening price\n",
    "- **High** - maximum price during the day\n",
    "- **Low** - minimum price during the day\n",
    "- **Close** - close price adjusted for splits\n",
    "- **Adj Close** - close price adjusted for both dividends and splits\n",
    "- **Volume** - the number of shares that changed hands during a given day"
   ]
  },
  {
   "cell_type": "markdown",
   "metadata": {},
   "source": [
    "## Basic initialisation\n",
    "To get you started, let's import some basic Python libraries as well as Spark modules and functions."
   ]
  },
  {
   "cell_type": "code",
   "execution_count": 24,
   "metadata": {},
   "outputs": [],
   "source": [
    "import pandas as pd\n",
    "import numpy as np\n",
    "import matplotlib.pyplot as plt\n",
    "\n",
    "from pyspark import SparkContext\n",
    "from pyspark.sql import SparkSession\n",
    "from pyspark.sql import functions as F\n",
    "from pyspark.sql.types import * \n"
   ]
  },
  {
   "cell_type": "markdown",
   "metadata": {},
   "source": [
    "Remember that we need a `SparkContext` and `SparkSession` to interface with Spark.\n",
    "We will mostly be using the `SparkContext` to interact with RDDs and the `SparkSession` to interface with Python objects.\n",
    "\n",
    "> ℹ️ **Instructions** ℹ️\n",
    ">\n",
    ">Initialise a new **Spark Context** and **Session** that you will use to interface with Spark."
   ]
  },
  {
   "cell_type": "code",
   "execution_count": 25,
   "metadata": {},
   "outputs": [],
   "source": [
    "#TODO: Write your code here \n",
    "spark = SparkSession \\\n",
    "    .builder \\\n",
    "    .appName(\"Python Spark SQL basic example\") \\\n",
    "    .config(\"spark.some.config.option\", \"some-value\") \\\n",
    "    .getOrCreate() \n",
    "\n",
    "sc=spark.sparkContext\n"
   ]
  },
  {
   "cell_type": "markdown",
   "metadata": {},
   "source": [
    "## Investigate dataset schema\n",
    "At this point, it is enough to read in a single file to ascertain the data structure. You will be required to use the information obtained from the small subset to create a data schema. This data schema will be used when reading the entire dataset using Spark.\n",
    "\n",
    "> ℹ️ **Instructions** ℹ️\n",
    ">\n",
    ">Make use of Pandas to read in a single file and investigate the plausible data types to be used when creating a Spark data schema. \n",
    ">\n",
    ">*You may use as many coding cells as necessary.*"
   ]
  },
  {
   "cell_type": "code",
   "execution_count": 26,
   "metadata": {},
   "outputs": [
    {
     "name": "stdout",
     "output_type": "stream",
     "text": [
      "+----------+-----------+-----------+----------+-----------+------------+---------+-----+\n",
      "|      Date|       Open|       High|       Low|      Close|   Adj Close|   Volume|stock|\n",
      "+----------+-----------+-----------+----------+-----------+------------+---------+-----+\n",
      "|1962-02-19|    5.83929|   5.907375|   5.83929|    5.86332|   1.3863293|  29900.0|   AA|\n",
      "|1962-02-19|   5.481634|   5.528486|  5.481634|  5.5167727|   1.2804527|  32000.0| ARNC|\n",
      "|1962-02-19|  0.9074074| 0.91563785|0.89917696|  0.9032922|  0.16141544| 619400.0|   BA|\n",
      "|1962-02-19|  1.6770834|  1.6927084| 1.6614584|  1.6770834|   0.1440587| 170400.0|  CAT|\n",
      "|1962-02-19|        0.0|   3.578869|      20.0|   3.549107| 0.056501225| 273600.0|  CVX|\n",
      "|1962-02-19|0.099767394|0.099767394|0.09820853| 0.09820853| 0.037543412| 817400.0|  DIS|\n",
      "|1962-02-19|        0.0|    29.9375|     29.75|    29.9375|  0.49964145|   1600.0|  DTE|\n",
      "|1962-02-19|        0.0|   9.921875|  9.890625|   9.921875|  0.22499175|   8800.0|   ED|\n",
      "|1962-02-19|        0.0|  7.0833335| 7.0208335|  7.0208335|  0.91296524|  20400.0|   FL|\n",
      "|1962-02-19| 0.77373797|   0.777494|0.76372194|   0.767478|0.0018262818|1557500.0|   GE|\n",
      "|1962-02-19|        0.0|    10.9375|     10.75|    10.9375|   1.9131781|  22800.0|   GT|\n",
      "|1962-02-19| 0.11264618| 0.11397664|0.11264618|0.113089666| 0.006272347| 591800.0|  HPQ|\n",
      "|1962-02-19|       7.26|  7.2933335|  7.173333|  7.1866665|   0.5825691| 280000.0|  IBM|\n",
      "|1962-02-19|        0.0|   9.003848|  8.822562|   8.882991|   0.7784165|  39300.0|   IP|\n",
      "|1962-02-19|        0.0| 0.23206018|0.23206018| 0.23206018| 6.541049E-7|  43200.0|  JNJ|\n",
      "|1962-02-19| 0.24153645| 0.24348958|0.24153645| 0.24348958| 0.003923037| 345600.0|   KO|\n",
      "|1962-02-19|        0.0| 0.17881945|0.17621528| 0.17708333|2.1674694E-4| 460800.0|   MO|\n",
      "|1962-02-19|        0.0|      280.0|   276.875|    279.375|   124.94374|    600.0|  NAV|\n",
      "|1962-02-19|        0.0|  1.2734375|  1.265625|   1.265625| 0.012011507| 281600.0|   PG|\n",
      "|1962-02-19|        0.0|  1.7460938| 1.7109375|  1.7382812| 0.015494763|1657600.0|  XOM|\n",
      "+----------+-----------+-----------+----------+-----------+------------+---------+-----+\n",
      "only showing top 20 rows\n",
      "\n"
     ]
    }
   ],
   "source": [
    "import pandas as pd\n",
    "\n",
    "# Read in the file using Pandas\n",
    "df = pd.read_csv(\"../Downloads/stocks (6)/stocks/1962/01/02/stocks.csv\") \n",
    "\n",
    "# Use Pandas dtypes to inspect the data types of each column\n",
    "df_dtypes = df.dtypes \n",
    "\n",
    "\n",
    "# Create a Spark data schema based on the Pandas dtypes\n",
    "from pyspark.sql.types import StructType, StructField, StringType, IntegerType, FloatType\n",
    "\n",
    "spark_schema = StructType([\n",
    "    StructField(col_name, StringType() if col_dtype == 'object' else IntegerType() if col_dtype == 'int64' else FloatType(), True)\n",
    "    for col_name, col_dtype in df_dtypes.items()\n",
    "])\n",
    "\n",
    "# Use the Spark data schema to read in the file as a Spark DataFrame \n",
    "#data = spark.read.format(\"csv\").option(\"header\", \"true\").option(\"inferSchema\", \"true\").load(\"../Downloads/stocks (6)/stocks/1962/*/stocks.csv\")\n",
    "#data = spark.read(\"../Downloads/stocks (6)/stocks/1962/*/stocks.csv\") \n",
    "#data.show()\n",
    "spark_df = spark.read.csv(\"../Downloads/stocks (6)/stocks/1962/*/*/stocks.csv\", schema=spark_schema, header=True)\n",
    "#df_dtypes = spark_df.dtypes \n",
    "spark_df.show() \n",
    "\n"
   ]
  },
  {
   "cell_type": "code",
   "execution_count": null,
   "metadata": {},
   "outputs": [],
   "source": []
  },
  {
   "cell_type": "markdown",
   "metadata": {},
   "source": [
    "## Read CSV files\n",
    "\n",
    "When working with big data, it is often not tenable to keep processing an entire data batch when you are in the process of development - this can be quite time-consuming. If the data is uniform, it is sufficient to work with a smaller subset to create basic functionality. Your manager has identified the year **1962** to perform the initial testing for data ingestion. \n",
    "\n",
    "> ℹ️ **Instructions** ℹ️\n",
    ">\n",
    ">Read in the data for **1962** using a data schema that purely uses string data types. You will be required to convert to the appropriate data types at a later stage.\n",
    ">\n",
    ">*You may use as many coding cells as necessary.*"
   ]
  },
  {
   "cell_type": "code",
   "execution_count": 27,
   "metadata": {},
   "outputs": [
    {
     "name": "stdout",
     "output_type": "stream",
     "text": [
      "+----------+------------------+------------------+------------------+------------------+--------------------+---------+-----+\n",
      "|      Date|              Open|              High|               low|             Close|           Adj Close|   Volume|Stock|\n",
      "+----------+------------------+------------------+------------------+------------------+--------------------+---------+-----+\n",
      "|1962-02-19| 5.839290142059326| 5.907374858856201| 5.839290142059326| 5.863319873809815|  1.3863292932510376|  29900.0|   AA|\n",
      "|1962-02-19| 5.481634140014648|5.5284857749938965| 5.481634140014648| 5.516772747039795|  1.2804527282714844|  32000.0| ARNC|\n",
      "|1962-02-19|0.9074074029922484|0.9156378507614136|0.8991769552230835| 0.903292179107666|  0.1614154428243637| 619400.0|   BA|\n",
      "|1962-02-19|1.6770833730697632|1.6927083730697632|1.6614583730697632|1.6770833730697632|  0.1440587043762207| 170400.0|  CAT|\n",
      "|1962-02-19|               0.0|3.5788691043853764|              20.0| 3.549107074737549|  0.0565012246370315| 273600.0|  CVX|\n",
      "|1962-02-19|0.0997673943638801|0.0997673943638801|0.0982085317373275|0.0982085317373275|   0.037543412297964| 817400.0|  DIS|\n",
      "|1962-02-19|               0.0|           29.9375|             29.75|           29.9375|  0.4996414482593536|   1600.0|  DTE|\n",
      "|1962-02-19|               0.0|          9.921875|          9.890625|          9.921875|  0.2249917536973952|   8800.0|   ED|\n",
      "|1962-02-19|               0.0| 7.083333492279053| 7.020833492279053| 7.020833492279053|  0.9129652380943298|  20400.0|   FL|\n",
      "|1962-02-19|0.7737379670143127|0.7774940133094788|0.7637219429016113|0.7674779891967773|  0.0018262817757204|1557500.0|   GE|\n",
      "|1962-02-19|               0.0|           10.9375|             10.75|           10.9375|  1.9131780862808228|  22800.0|   GT|\n",
      "|1962-02-19|0.1126461774110794|0.1139766424894332|0.1126461774110794|0.1130896657705307|  0.0062723471783101| 591800.0|  HPQ|\n",
      "|1962-02-19| 7.260000228881836| 7.293333530426025| 7.173333168029785| 7.186666488647461|  0.5825691223144531| 280000.0|  IBM|\n",
      "|1962-02-19|               0.0|   9.0038480758667| 8.822562217712402| 8.882990837097168|  0.7784165143966675|  39300.0|   IP|\n",
      "|1962-02-19|               0.0|0.2320601791143417|0.2320601791143417|0.2320601791143417|6.541048946928639...|  43200.0|  JNJ|\n",
      "|1962-02-19|0.2415364533662796|0.2434895783662796|0.2415364533662796|0.2434895783662796|  0.0039230370894074| 345600.0|   KO|\n",
      "|1962-02-19|               0.0|0.1788194477558136|0.1762152761220932|0.1770833283662796|  0.0002167469356209| 460800.0|   MO|\n",
      "|1962-02-19|               0.0|             280.0|           276.875|           279.375|  124.94374084472656|    600.0|  NAV|\n",
      "|1962-02-19|               0.0|         1.2734375|          1.265625|          1.265625|  0.0120115065947175| 281600.0|   PG|\n",
      "|1962-02-19|               0.0|        1.74609375|         1.7109375|        1.73828125|  0.0154947629198431|1657600.0|  XOM|\n",
      "+----------+------------------+------------------+------------------+------------------+--------------------+---------+-----+\n",
      "only showing top 20 rows\n",
      "\n"
     ]
    }
   ],
   "source": [
    "#TODO: Write your code here \n",
    "\n",
    "\n",
    "from pyspark.sql.types import StructType, StructField, StringType\n",
    "\n",
    "# Define the schema with all columns as StringType\n",
    "schema = StructType([\n",
    "    StructField(\"Date\", StringType(), True),\n",
    "    StructField(\"Open\", StringType(), True),\n",
    "    StructField(\"High\", StringType(), True),\n",
    "    StructField(\"low\", StringType(), True),\n",
    "    StructField(\"Close\", StringType(), True),\n",
    "    StructField(\"Adj Close\", StringType(), True),\n",
    "    StructField(\"Volume\", StringType(), True),\n",
    "    StructField(\"Stock\", StringType(), True),\n",
    "    # Add as many columns as necessary with StringType\n",
    "])\n",
    "\n",
    "# Read in the data using the schema\n",
    "data_1962 = spark.read.csv(\"../Downloads/stocks (6)/stocks/1962/*/*/stocks.csv\", schema=schema, header=True)  \n",
    "data_1962.show()\n"
   ]
  },
  {
   "cell_type": "code",
   "execution_count": null,
   "metadata": {},
   "outputs": [],
   "source": [
    "\n"
   ]
  },
  {
   "cell_type": "markdown",
   "metadata": {},
   "source": [
    "## Update column names\n",
    "To make the data easier to work with, you will need to make a few changes:\n",
    "1. Column headers should all be in lowercase; and\n",
    "2. Whitespaces should be replaced with underscores.\n",
    "\n",
    "\n",
    "> ℹ️ **Instructions** ℹ️\n",
    ">\n",
    ">Make sure that the column headers are all in lowercase and that any whitespaces are replaced with underscores.\n",
    ">\n",
    ">*You may use as many coding cells as necessary.*"
   ]
  },
  {
   "cell_type": "code",
   "execution_count": 28,
   "metadata": {
    "scrolled": true
   },
   "outputs": [
    {
     "name": "stdout",
     "output_type": "stream",
     "text": [
      "+----------+------------------+------------------+------------------+------------------+--------------------+---------+-----+\n",
      "|      date|              open|              high|               low|             close|           adj_close|   volume|stock|\n",
      "+----------+------------------+------------------+------------------+------------------+--------------------+---------+-----+\n",
      "|1962-02-19| 5.839290142059326| 5.907374858856201| 5.839290142059326| 5.863319873809815|  1.3863292932510376|  29900.0|   AA|\n",
      "|1962-02-19| 5.481634140014648|5.5284857749938965| 5.481634140014648| 5.516772747039795|  1.2804527282714844|  32000.0| ARNC|\n",
      "|1962-02-19|0.9074074029922484|0.9156378507614136|0.8991769552230835| 0.903292179107666|  0.1614154428243637| 619400.0|   BA|\n",
      "|1962-02-19|1.6770833730697632|1.6927083730697632|1.6614583730697632|1.6770833730697632|  0.1440587043762207| 170400.0|  CAT|\n",
      "|1962-02-19|               0.0|3.5788691043853764|              20.0| 3.549107074737549|  0.0565012246370315| 273600.0|  CVX|\n",
      "|1962-02-19|0.0997673943638801|0.0997673943638801|0.0982085317373275|0.0982085317373275|   0.037543412297964| 817400.0|  DIS|\n",
      "|1962-02-19|               0.0|           29.9375|             29.75|           29.9375|  0.4996414482593536|   1600.0|  DTE|\n",
      "|1962-02-19|               0.0|          9.921875|          9.890625|          9.921875|  0.2249917536973952|   8800.0|   ED|\n",
      "|1962-02-19|               0.0| 7.083333492279053| 7.020833492279053| 7.020833492279053|  0.9129652380943298|  20400.0|   FL|\n",
      "|1962-02-19|0.7737379670143127|0.7774940133094788|0.7637219429016113|0.7674779891967773|  0.0018262817757204|1557500.0|   GE|\n",
      "|1962-02-19|               0.0|           10.9375|             10.75|           10.9375|  1.9131780862808228|  22800.0|   GT|\n",
      "|1962-02-19|0.1126461774110794|0.1139766424894332|0.1126461774110794|0.1130896657705307|  0.0062723471783101| 591800.0|  HPQ|\n",
      "|1962-02-19| 7.260000228881836| 7.293333530426025| 7.173333168029785| 7.186666488647461|  0.5825691223144531| 280000.0|  IBM|\n",
      "|1962-02-19|               0.0|   9.0038480758667| 8.822562217712402| 8.882990837097168|  0.7784165143966675|  39300.0|   IP|\n",
      "|1962-02-19|               0.0|0.2320601791143417|0.2320601791143417|0.2320601791143417|6.541048946928639...|  43200.0|  JNJ|\n",
      "|1962-02-19|0.2415364533662796|0.2434895783662796|0.2415364533662796|0.2434895783662796|  0.0039230370894074| 345600.0|   KO|\n",
      "|1962-02-19|               0.0|0.1788194477558136|0.1762152761220932|0.1770833283662796|  0.0002167469356209| 460800.0|   MO|\n",
      "|1962-02-19|               0.0|             280.0|           276.875|           279.375|  124.94374084472656|    600.0|  NAV|\n",
      "|1962-02-19|               0.0|         1.2734375|          1.265625|          1.265625|  0.0120115065947175| 281600.0|   PG|\n",
      "|1962-02-19|               0.0|        1.74609375|         1.7109375|        1.73828125|  0.0154947629198431|1657600.0|  XOM|\n",
      "+----------+------------------+------------------+------------------+------------------+--------------------+---------+-----+\n",
      "only showing top 20 rows\n",
      "\n"
     ]
    }
   ],
   "source": [
    "#TODO: Write your code here \n",
    "\n",
    "# Read in the data using the schema, and store the original column names\n",
    "#data_1962 = spark.read.csv(\"../Downloads/stocks (6)/stocks/1962/01/02/stocks.csv\", schema=schema, header=True)\n",
    "original_columns = data_1962.columns\n",
    "\n",
    "# Lowercase the column names and replace any whitespaces with underscores\n",
    "lowercase_columns = [col.lower().replace(\" \", \"_\") for col in original_columns]\n",
    "\n",
    "# Create a new DataFrame with the modified column names\n",
    "data_1962 = data_1962.toDF(*lowercase_columns) \n",
    "data_1962.show()"
   ]
  },
  {
   "cell_type": "markdown",
   "metadata": {},
   "source": [
    "## Null Values\n",
    "Null values often represent missing pieces of data. It is always good to know where your null values lie - so you can quickly identify and remedy any issues stemming from these.\n",
    "\n",
    "> ℹ️ **Instructions** ℹ️\n",
    ">\n",
    ">Write code to count the number of null values found in each column.\n",
    ">\n",
    ">*You may use as many coding cells as necessary.*"
   ]
  },
  {
   "cell_type": "code",
   "execution_count": 29,
   "metadata": {},
   "outputs": [
    {
     "name": "stdout",
     "output_type": "stream",
     "text": [
      "+----+----+----+---+-----+---------+------+-----+\n",
      "|date|open|high|low|close|adj_close|volume|stock|\n",
      "+----+----+----+---+-----+---------+------+-----+\n",
      "|   0|   0|   0| 22|    0|        0|    21|    0|\n",
      "+----+----+----+---+-----+---------+------+-----+\n",
      "\n"
     ]
    }
   ],
   "source": [
    "from pyspark.sql.functions import col,isnan, when, count\n",
    "data_1962.select([count(when(isnan(c) | col(c).isNull(), c)).alias(c) for c in data_1962.columns]\n",
    "   ).show()\n",
    "\n",
    "\n",
    "\n",
    "\n",
    "\n",
    "\n",
    "\n",
    "\n",
    "    "
   ]
  },
  {
   "cell_type": "markdown",
   "metadata": {},
   "source": [
    "## Data type conversion - The final data schema\n",
    "\n",
    "Now that we have identified the number of missing values in the data set, we'll move on to convert our data schema to the required data types. \n",
    "\n",
    "> ℹ️ **Instructions** ℹ️\n",
    ">\n",
    ">Use typecasting to convert the string data types in your current data schema to more appropriate data types.\n",
    ">\n",
    ">*You may use as many coding cells as necessary.*"
   ]
  },
  {
   "cell_type": "code",
   "execution_count": 30,
   "metadata": {},
   "outputs": [
    {
     "name": "stdout",
     "output_type": "stream",
     "text": [
      "+----------+------------------+------------------+------------------+------------------+--------------------+---------+-----+\n",
      "|      date|              open|              high|               low|             close|           adj_close|   volume|stock|\n",
      "+----------+------------------+------------------+------------------+------------------+--------------------+---------+-----+\n",
      "|1962-02-19| 5.839290142059326| 5.907374858856201| 5.839290142059326| 5.863319873809815|  1.3863292932510376|  29900.0|   AA|\n",
      "|1962-02-19| 5.481634140014648|5.5284857749938965| 5.481634140014648| 5.516772747039795|  1.2804527282714844|  32000.0| ARNC|\n",
      "|1962-02-19|0.9074074029922484|0.9156378507614136|0.8991769552230835| 0.903292179107666|  0.1614154428243637| 619400.0|   BA|\n",
      "|1962-02-19|1.6770833730697632|1.6927083730697632|1.6614583730697632|1.6770833730697632|  0.1440587043762207| 170400.0|  CAT|\n",
      "|1962-02-19|               0.0|3.5788691043853764|              20.0| 3.549107074737549|  0.0565012246370315| 273600.0|  CVX|\n",
      "|1962-02-19|0.0997673943638801|0.0997673943638801|0.0982085317373275|0.0982085317373275|   0.037543412297964| 817400.0|  DIS|\n",
      "|1962-02-19|               0.0|           29.9375|             29.75|           29.9375|  0.4996414482593536|   1600.0|  DTE|\n",
      "|1962-02-19|               0.0|          9.921875|          9.890625|          9.921875|  0.2249917536973952|   8800.0|   ED|\n",
      "|1962-02-19|               0.0| 7.083333492279053| 7.020833492279053| 7.020833492279053|  0.9129652380943298|  20400.0|   FL|\n",
      "|1962-02-19|0.7737379670143127|0.7774940133094788|0.7637219429016113|0.7674779891967773|  0.0018262817757204|1557500.0|   GE|\n",
      "|1962-02-19|               0.0|           10.9375|             10.75|           10.9375|  1.9131780862808228|  22800.0|   GT|\n",
      "|1962-02-19|0.1126461774110794|0.1139766424894332|0.1126461774110794|0.1130896657705307|  0.0062723471783101| 591800.0|  HPQ|\n",
      "|1962-02-19| 7.260000228881836| 7.293333530426025| 7.173333168029785| 7.186666488647461|  0.5825691223144531| 280000.0|  IBM|\n",
      "|1962-02-19|               0.0|   9.0038480758667| 8.822562217712402| 8.882990837097168|  0.7784165143966675|  39300.0|   IP|\n",
      "|1962-02-19|               0.0|0.2320601791143417|0.2320601791143417|0.2320601791143417|6.541048946928639...|  43200.0|  JNJ|\n",
      "|1962-02-19|0.2415364533662796|0.2434895783662796|0.2415364533662796|0.2434895783662796|  0.0039230370894074| 345600.0|   KO|\n",
      "|1962-02-19|               0.0|0.1788194477558136|0.1762152761220932|0.1770833283662796|  0.0002167469356209| 460800.0|   MO|\n",
      "|1962-02-19|               0.0|             280.0|           276.875|           279.375|  124.94374084472656|    600.0|  NAV|\n",
      "|1962-02-19|               0.0|         1.2734375|          1.265625|          1.265625|  0.0120115065947175| 281600.0|   PG|\n",
      "|1962-02-19|               0.0|        1.74609375|         1.7109375|        1.73828125|  0.0154947629198431|1657600.0|  XOM|\n",
      "+----------+------------------+------------------+------------------+------------------+--------------------+---------+-----+\n",
      "only showing top 20 rows\n",
      "\n",
      "DataFrame[date: string, open: string, high: string, low: string, close: string, adj_close: string, volume: string, stock: string]\n",
      "+----+----+----+---+-----+---------+------+-----+\n",
      "|date|open|high|low|close|adj_close|volume|stock|\n",
      "+----+----+----+---+-----+---------+------+-----+\n",
      "|   0|   0|   0| 22|    0|        0|    21|    0|\n",
      "+----+----+----+---+-----+---------+------+-----+\n",
      "\n"
     ]
    }
   ],
   "source": [
    "#fix\n",
    "\n",
    "from pyspark.sql.types import IntegerType, FloatType, DateType\n",
    "from pyspark.sql.functions import ceil, col,when\n",
    "\n",
    "# Define the updated schema with appropriate data types\n",
    "#updated_schema = StructType([\n",
    "    #StructField(\"date\", StringType(), True),\n",
    "    #StructField(\"open\", FloatType(), True),\n",
    "    #StructField(\"high\", FloatType(), True),\n",
    "    #StructField(\"low\", FloatType(), True),\n",
    "    #StructField(\"close\", FloatType(), True),\n",
    "    #StructField(\"adj_close\", FloatType(), True),\n",
    "    #StructField(\"volume_stock\",StringType(), True),\n",
    "    # Add as many columns as necessary with appropriate data types\n",
    "#])\n",
    "\n",
    "# Read in the data using the updated schema \n",
    "data_1962_1 = data_1962.withColumn(\"date\", data_1962[\"date\"].cast(StringType())) \n",
    "data_1962_1 = data_1962.withColumn(\"open\", data_1962[\"open\"].cast(FloatType())) \n",
    "data_1962_1 = data_1962.withColumn(\"high\", data_1962[\"high\"].cast(FloatType())) \n",
    "data_1962_1 = data_1962.withColumn(\"low\", data_1962[\"low\"].cast(FloatType()))\n",
    "data_1962_1 = data_1962.withColumn(\"close\", data_1962[\"close\"].cast(FloatType()))\n",
    "data_1962_1 = data_1962.withColumn(\"adj_close\", data_1962[\"adj_close\"].cast(FloatType()))\n",
    "data_1962_1 = data_1962.withColumn(\"volume\", data_1962[\"volume\"].cast(FloatType())) \n",
    "data_1962_1 = data_1962.withColumn(\"stock\", data_1962[\"stock\"].cast(StringType()))\n",
    "#data_1962_ = spark.read.csv(\"../Downloads/stocks (6)/stocks/1962/01/02/stocks.csv\", schema=updated_schema, header=True)\n",
    "data_1962_1.show()\n",
    "print(data_1962_1)\n",
    "\n",
    "from pyspark.sql.functions import col,isnan, when, count\n",
    "data_1962_1.select([count(when(isnan(c) | col(c).isNull(), c)).alias(c) for c in data_1962_1.columns]\n",
    "   ).show()\n",
    "\n",
    "\n"
   ]
  },
  {
   "cell_type": "markdown",
   "metadata": {},
   "source": [
    "## Consolidate missing values\n",
    "We have to check if the data type conversion above was done correctly.\n",
    "If the casting was not successful, a null value gets inserted into the dataframe. You can thus check for successful conversion by determining if any null values are included in the resulting dataframe.\n",
    "\n",
    "\n",
    "> ℹ️ **Instructions** ℹ️\n",
    ">\n",
    ">Write code to compare the number of invalid entries (nulls) pre-conversion and post-conversion.\n",
    ">\n",
    ">*You may use as many coding cells as necessary.*"
   ]
  },
  {
   "cell_type": "code",
   "execution_count": 31,
   "metadata": {},
   "outputs": [
    {
     "name": "stdout",
     "output_type": "stream",
     "text": [
      "+----+----+----+---+-----+---------+------+-----+\n",
      "|date|open|high|low|close|adj_close|volume|stock|\n",
      "+----+----+----+---+-----+---------+------+-----+\n",
      "|   0|   0|   0| 22|    0|        0|    21|    0|\n",
      "+----+----+----+---+-----+---------+------+-----+\n",
      "\n",
      "+----+----+----+---+-----+---------+------+-----+\n",
      "|date|open|high|low|close|adj_close|volume|stock|\n",
      "+----+----+----+---+-----+---------+------+-----+\n",
      "|   0|   0|   0| 22|    0|        0|    21|    0|\n",
      "+----+----+----+---+-----+---------+------+-----+\n",
      "\n"
     ]
    }
   ],
   "source": [
    "#preconverison \n",
    "from pyspark.sql.functions import col,isnan, when, count\n",
    "data_1962.select([count(when(isnan(c) | col(c).isNull(), c)).alias(c) for c in data_1962.columns]\n",
    "   ).show() \n",
    "\n",
    "\n",
    "#post-conversion \n",
    "from pyspark.sql.functions import col,isnan, when, count\n",
    "data_1962_1.select([count(when(isnan(c) | col(c).isNull(), c)).alias(c) for c in data_1962_1.columns]\n",
    "   ).show()\n",
    "\n"
   ]
  },
  {
   "cell_type": "markdown",
   "metadata": {},
   "source": [
    "Here you should be able to see if any of your casts went wrong. \n",
    "Do not attempt to correct any missing values at this point. This will be dealt with in later sections of the predict."
   ]
  },
  {
   "cell_type": "markdown",
   "metadata": {},
   "source": [
    "## Generate parquet files\n",
    "When writing in Spark, we typically use parquet format. This format allows parallel writing using Spark's optimisation while maintaining other useful things like metadata.\n",
    "\n",
    "When writing, it is good to make sure that the data is sufficiently partitioned. \n",
    "\n",
    "Generally, data should be partitioned with one partition for every 200MB of data, but this also depends on the size of your cluster and executors. \n"
   ]
  },
  {
   "cell_type": "markdown",
   "metadata": {},
   "source": [
    "### Check the size of the dataframe before partitioning"
   ]
  },
  {
   "cell_type": "code",
   "execution_count": 32,
   "metadata": {},
   "outputs": [],
   "source": [
    "from pyspark.serializers import PickleSerializer, AutoBatchedSerializer"
   ]
  },
  {
   "cell_type": "code",
   "execution_count": 33,
   "metadata": {
    "scrolled": true
   },
   "outputs": [
    {
     "name": "stdout",
     "output_type": "stream",
     "text": [
      "The dataframe is 37.215544 MB\n",
      "2\n"
     ]
    }
   ],
   "source": [
    "rdd = data_1962.rdd._reserialize(AutoBatchedSerializer(PickleSerializer()))\n",
    "obj = rdd.ctx._jvm.org.apache.spark.mllib.api.python.SerDe.pythonToJava(rdd._jrdd, True)\n",
    "size = sc._jvm.org.apache.spark.util.SizeEstimator.estimate(obj)\n",
    "size_MB = size/1000000\n",
    "partitions = max(int(size_MB/200), 2)\n",
    "print(f'The dataframe is {size_MB} MB')  \n",
    "print(partitions, )\n"
   ]
  },
  {
   "cell_type": "markdown",
   "metadata": {},
   "source": [
    "### Write parquet files to the local directory\n",
    "> ℹ️ **Instructions** ℹ️\n",
    ">\n",
    "> Use the **coalesce** function and the number of **partitions** derived above to write parquet files to your local directory \n",
    ">\n",
    ">*You may use as many coding cells as necessary.*"
   ]
  },
  {
   "cell_type": "code",
   "execution_count": 34,
   "metadata": {},
   "outputs": [
    {
     "name": "stdout",
     "output_type": "stream",
     "text": [
      "PythonRDD[290] at RDD at PythonRDD.scala:53\n"
     ]
    },
    {
     "ename": "AnalysisException",
     "evalue": "path file:/C:/Users/lehumo  MOGOBA/Downloads/processing_big_data_final already exists.",
     "output_type": "error",
     "traceback": [
      "\u001b[1;31m---------------------------------------------------------------------------\u001b[0m",
      "\u001b[1;31mAnalysisException\u001b[0m                         Traceback (most recent call last)",
      "\u001b[1;32m~\\AppData\\Local\\Temp\\ipykernel_7440\\1096078018.py\u001b[0m in \u001b[0;36m<module>\u001b[1;34m\u001b[0m\n\u001b[0;32m     26\u001b[0m \u001b[1;33m\u001b[0m\u001b[0m\n\u001b[0;32m     27\u001b[0m \u001b[1;31m#TODO: Write your code here\u001b[0m\u001b[1;33m\u001b[0m\u001b[1;33m\u001b[0m\u001b[0m\n\u001b[1;32m---> 28\u001b[1;33m \u001b[0msave_parquet\u001b[0m \u001b[1;33m=\u001b[0m \u001b[0mdata_1962\u001b[0m\u001b[1;33m.\u001b[0m\u001b[0mcoalesce\u001b[0m\u001b[1;33m(\u001b[0m\u001b[1;36m2\u001b[0m\u001b[1;33m)\u001b[0m\u001b[1;33m.\u001b[0m\u001b[0mwrite\u001b[0m\u001b[1;33m.\u001b[0m\u001b[0mparquet\u001b[0m\u001b[1;33m(\u001b[0m\u001b[1;34m\"processing_big_data_final\"\u001b[0m\u001b[1;33m)\u001b[0m\u001b[1;33m\u001b[0m\u001b[1;33m\u001b[0m\u001b[0m\n\u001b[0m\u001b[0;32m     29\u001b[0m \u001b[1;31m#where i wrote 8 it will be the number of partitions\u001b[0m\u001b[1;33m\u001b[0m\u001b[1;33m\u001b[0m\u001b[0m\n\u001b[0;32m     30\u001b[0m \u001b[1;31m#and the stocks1962 will be your dataframe\u001b[0m\u001b[1;33m\u001b[0m\u001b[1;33m\u001b[0m\u001b[0m\n",
      "\u001b[1;32m~\\AppData\\Roaming\\Python\\Python39\\site-packages\\pyspark\\sql\\readwriter.py\u001b[0m in \u001b[0;36mparquet\u001b[1;34m(self, path, mode, partitionBy, compression)\u001b[0m\n\u001b[0;32m   1138\u001b[0m             \u001b[0mself\u001b[0m\u001b[1;33m.\u001b[0m\u001b[0mpartitionBy\u001b[0m\u001b[1;33m(\u001b[0m\u001b[0mpartitionBy\u001b[0m\u001b[1;33m)\u001b[0m\u001b[1;33m\u001b[0m\u001b[1;33m\u001b[0m\u001b[0m\n\u001b[0;32m   1139\u001b[0m         \u001b[0mself\u001b[0m\u001b[1;33m.\u001b[0m\u001b[0m_set_opts\u001b[0m\u001b[1;33m(\u001b[0m\u001b[0mcompression\u001b[0m\u001b[1;33m=\u001b[0m\u001b[0mcompression\u001b[0m\u001b[1;33m)\u001b[0m\u001b[1;33m\u001b[0m\u001b[1;33m\u001b[0m\u001b[0m\n\u001b[1;32m-> 1140\u001b[1;33m         \u001b[0mself\u001b[0m\u001b[1;33m.\u001b[0m\u001b[0m_jwrite\u001b[0m\u001b[1;33m.\u001b[0m\u001b[0mparquet\u001b[0m\u001b[1;33m(\u001b[0m\u001b[0mpath\u001b[0m\u001b[1;33m)\u001b[0m\u001b[1;33m\u001b[0m\u001b[1;33m\u001b[0m\u001b[0m\n\u001b[0m\u001b[0;32m   1141\u001b[0m \u001b[1;33m\u001b[0m\u001b[0m\n\u001b[0;32m   1142\u001b[0m     def text(\n",
      "\u001b[1;32m~\\AppData\\Roaming\\Python\\Python39\\site-packages\\py4j\\java_gateway.py\u001b[0m in \u001b[0;36m__call__\u001b[1;34m(self, *args)\u001b[0m\n\u001b[0;32m   1319\u001b[0m \u001b[1;33m\u001b[0m\u001b[0m\n\u001b[0;32m   1320\u001b[0m         \u001b[0manswer\u001b[0m \u001b[1;33m=\u001b[0m \u001b[0mself\u001b[0m\u001b[1;33m.\u001b[0m\u001b[0mgateway_client\u001b[0m\u001b[1;33m.\u001b[0m\u001b[0msend_command\u001b[0m\u001b[1;33m(\u001b[0m\u001b[0mcommand\u001b[0m\u001b[1;33m)\u001b[0m\u001b[1;33m\u001b[0m\u001b[1;33m\u001b[0m\u001b[0m\n\u001b[1;32m-> 1321\u001b[1;33m         return_value = get_return_value(\n\u001b[0m\u001b[0;32m   1322\u001b[0m             answer, self.gateway_client, self.target_id, self.name)\n\u001b[0;32m   1323\u001b[0m \u001b[1;33m\u001b[0m\u001b[0m\n",
      "\u001b[1;32m~\\AppData\\Roaming\\Python\\Python39\\site-packages\\pyspark\\sql\\utils.py\u001b[0m in \u001b[0;36mdeco\u001b[1;34m(*a, **kw)\u001b[0m\n\u001b[0;32m    194\u001b[0m                 \u001b[1;31m# Hide where the exception came from that shows a non-Pythonic\u001b[0m\u001b[1;33m\u001b[0m\u001b[1;33m\u001b[0m\u001b[0m\n\u001b[0;32m    195\u001b[0m                 \u001b[1;31m# JVM exception message.\u001b[0m\u001b[1;33m\u001b[0m\u001b[1;33m\u001b[0m\u001b[0m\n\u001b[1;32m--> 196\u001b[1;33m                 \u001b[1;32mraise\u001b[0m \u001b[0mconverted\u001b[0m \u001b[1;32mfrom\u001b[0m \u001b[1;32mNone\u001b[0m\u001b[1;33m\u001b[0m\u001b[1;33m\u001b[0m\u001b[0m\n\u001b[0m\u001b[0;32m    197\u001b[0m             \u001b[1;32melse\u001b[0m\u001b[1;33m:\u001b[0m\u001b[1;33m\u001b[0m\u001b[1;33m\u001b[0m\u001b[0m\n\u001b[0;32m    198\u001b[0m                 \u001b[1;32mraise\u001b[0m\u001b[1;33m\u001b[0m\u001b[1;33m\u001b[0m\u001b[0m\n",
      "\u001b[1;31mAnalysisException\u001b[0m: path file:/C:/Users/lehumo  MOGOBA/Downloads/processing_big_data_final already exists."
     ]
    }
   ],
   "source": [
    "#from pyspark.sql import SparkSession\n",
    "print(rdd)\n",
    "# Create a Spark session\n",
    "#spark = SparkSession.builder.appName(\"WriteParquetFiles\").getOrCreate()\n",
    "\n",
    "\n",
    "\n",
    "# Get the number of partitions\n",
    "#num_partitions = df.rdd.getNumPartitions()\n",
    "\n",
    "# Use the coalesce function\n",
    "#df = df.coalesce(1)\n",
    "\n",
    "# Write the data as parquet files to the local directory\n",
    "#output_path = \"../Downloads/output_file\"\n",
    "#df.write.parquet(output_path, mode=\"overwrite\")\n",
    "\n",
    "# Stop the Spark session\n",
    "#spark.stop()\n",
    " \n",
    "\n",
    "\n",
    "#rdd_coalesced = rdd.coalesce(partitions)\n",
    "\n",
    "#rdd_coalesced.toDF().write.parquet(\"output_file1\")\n",
    " \n",
    "#TODO: Write your code here\n",
    "save_parquet = data_1962.coalesce(2).write.parquet(\"processing_big_data_final\")\n",
    "#where i wrote 8 it will be the number of partitions\n",
    "#and the stocks1962 will be your dataframe \n",
    "\n",
    "\n",
    "\n",
    "#number_of_partitions = data_1962.rdd.getNumPartitions()\n",
    "#data_1962.coalesce(number_of_partitions // 2).write.parquet(\"/path/to/local/directory/kamza\")\n",
    "\n",
    "\n",
    "\n"
   ]
  },
  {
   "cell_type": "code",
   "execution_count": 46,
   "metadata": {},
   "outputs": [
    {
     "name": "stdout",
     "output_type": "stream",
     "text": [
      "Number of unique stocks: 21\n",
      "Stock counts:\n",
      "+-----+-----+\n",
      "|stock|count|\n",
      "+-----+-----+\n",
      "|   AA|  252|\n",
      "|  XOM|  252|\n",
      "|  DIS|  252|\n",
      "|   PG|  252|\n",
      "|   GT|  252|\n",
      "|   MO|  252|\n",
      "|  IBM|  252|\n",
      "|  JNJ|  252|\n",
      "|  CVX|  252|\n",
      "|  DTE|  252|\n",
      "|   BA|  242|\n",
      "|   GE|  252|\n",
      "|  HPQ|  309|\n",
      "| ARNC|  231|\n",
      "|  CAT|  252|\n",
      "|   IP|  252|\n",
      "|   FL|  252|\n",
      "|   ED|  271|\n",
      "|  NAV|  252|\n",
      "|   KO|  252|\n",
      "+-----+-----+\n",
      "only showing top 20 rows\n",
      "\n"
     ]
    }
   ],
   "source": [
    "\n",
    "\n",
    "# Import the necessary functions\n",
    "from pyspark.sql.functions import count\n",
    "\n",
    "# Count the number of times each stock appears in the DataFrame\n",
    "stock_counts = data_1962.groupBy('stock').count()\n",
    "\n",
    "# Count the number of unique stocks in the DataFrame\n",
    "num_stocks = stock_counts.count()\n",
    "\n",
    "# Print the results\n",
    "print(f\"Number of unique stocks: {num_stocks}\")\n",
    "print(\"Stock counts:\")\n",
    "stock_counts.show()\n",
    "\n"
   ]
  },
  {
   "cell_type": "code",
   "execution_count": null,
   "metadata": {},
   "outputs": [],
   "source": []
  }
 ],
 "metadata": {
  "celltoolbar": "Raw Cell Format",
  "interpreter": {
   "hash": "24a0a2ddc4dffcb168e507551dd24967ddc40ea2df7a72a200a74e0ae6d88beb"
  },
  "kernelspec": {
   "display_name": "Python 3 (ipykernel)",
   "language": "python",
   "name": "python3"
  },
  "language_info": {
   "codemirror_mode": {
    "name": "ipython",
    "version": 3
   },
   "file_extension": ".py",
   "mimetype": "text/x-python",
   "name": "python",
   "nbconvert_exporter": "python",
   "pygments_lexer": "ipython3",
   "version": "3.9.13"
  }
 },
 "nbformat": 4,
 "nbformat_minor": 2
}
