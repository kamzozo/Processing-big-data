{
 "cells": [
  {
   "cell_type": "markdown",
   "metadata": {},
   "source": [
    "# Processing Big Data - Data profiling\n",
    "\n",
    "© Explore Data Science Academy\n",
    "\n",
    "## Honour Code\n",
    "I {**YOUR NAME**, **YOUR SURNAME**}, confirm - by submitting this document - that the solutions in this notebook are a result of my own work and that I abide by the [EDSA honour code](https://drive.google.com/file/d/1QDCjGZJ8-FmJE3bZdIQNwnJyQKPhHZBn/view?usp=sharing).\n",
    "    Non-compliance with the honour code constitutes a material breach of contract.\n",
    "\n",
    "## Context\n",
    "\n",
    "Having completed the first step - data ingestion, the data now needs to be thoroughly prepared so that it is readable, reliable and robust. As the Data Engineer in the team, this will be your responsibility. The Data Scientists are looking to you to clean this data so that model development and deployment become seamless when the data is used in a production environment. Having completed your Data Engineering course recently, your manager Gnissecorp Atadgid, asks you to create data summaries and perform checks using the six dimensions of data quality.\n",
    "\n",
    "<div align=\"center\" style=\"width: 600px; font-size: 80%; text-align: center; margin: 0 auto\">\n",
    "<img src=\"https://github.com/Explore-AI/Pictures/raw/master/data_engineering/transform/predict/DataQuality.jpg\"\n",
    "     alt=\"Data Quality\"\n",
    "     style=\"float: center; padding-bottom=0.5em\"\n",
    "     width=100%/>\n",
    "     <p><em>Figure 1. Six dimensions of data quality</em></p>\n",
    "</div>"
   ]
  },
  {
   "cell_type": "markdown",
   "metadata": {},
   "source": [
    "## Import libraries\n",
    "Below we import the libraries required to complete this section of the predict."
   ]
  },
  {
   "cell_type": "code",
   "execution_count": 67,
   "metadata": {},
   "outputs": [],
   "source": [
    "import pandas as pd\n",
    "import numpy as np\n",
    "import matplotlib.pyplot as plt\n",
    "\n",
    "from pyspark import SparkContext\n",
    "from pyspark.sql import SparkSession\n",
    "from pyspark.sql import functions as F\n",
    "from pyspark.sql.types import *"
   ]
  },
  {
   "cell_type": "markdown",
   "metadata": {},
   "source": [
    "Remember that we need a `SparkContext` and `SparkSession` to interface with Spark.\n",
    "We will mostly be using the `SparkContext` to interact with RDDs \n",
    "and the `SparkSession` to interface with Python objects.\n",
    "\n",
    "> ℹ️ **Instructions** ℹ️\n",
    ">\n",
    ">Initialise a new **Spark Context** and **Session** that you will use to interface with Spark."
   ]
  },
  {
   "cell_type": "code",
   "execution_count": 68,
   "metadata": {},
   "outputs": [],
   "source": [
    "\n",
    "\n",
    "\n",
    "from pyspark import SparkContext, SparkConf\n",
    "from pyspark.sql import SparkSession\n",
    "\n",
    "conf = SparkConf().setAppName(\"SparkApp\")\n",
    "sc = SparkContext.getOrCreate(conf=conf)\n",
    "spark = SparkSession.builder.getOrCreate()"
   ]
  },
  {
   "cell_type": "markdown",
   "metadata": {},
   "source": [
    "## Parquet files\n",
    "In the previous section of the predict, you generated parquet files to your local directory. You will be making use of these files to continue with this section of the predict. Please make sure that your parquet files are specifically for the year **1962**. Any other year used outside of **1962** will produce incorrect answers and have a negative impact on your overall predict mark.\n",
    "\n",
    "> ℹ️ **Instructions** ℹ️\n",
    ">\n",
    "> Read the parquet files stored in your directory for the year **1962** into a Spark DataFrame."
   ]
  },
  {
   "cell_type": "code",
   "execution_count": 69,
   "metadata": {},
   "outputs": [
    {
     "name": "stdout",
     "output_type": "stream",
     "text": [
      "+----------+------------------+------------------+------------------+------------------+--------------------+---------+-----+\n",
      "|      date|              open|              high|               low|             close|           adj_close|   volume|stock|\n",
      "+----------+------------------+------------------+------------------+------------------+--------------------+---------+-----+\n",
      "|1962-02-19| 5.839290142059326| 5.907374858856201| 5.839290142059326| 5.863319873809815|  1.3863292932510376|  29900.0|   AA|\n",
      "|1962-02-19| 5.481634140014648|5.5284857749938965| 5.481634140014648| 5.516772747039795|  1.2804527282714844|  32000.0| ARNC|\n",
      "|1962-02-19|0.9074074029922484|0.9156378507614136|0.8991769552230835| 0.903292179107666|  0.1614154428243637| 619400.0|   BA|\n",
      "|1962-02-19|1.6770833730697632|1.6927083730697632|1.6614583730697632|1.6770833730697632|  0.1440587043762207| 170400.0|  CAT|\n",
      "|1962-02-19|               0.0|3.5788691043853764|              20.0| 3.549107074737549|  0.0565012246370315| 273600.0|  CVX|\n",
      "|1962-02-19|0.0997673943638801|0.0997673943638801|0.0982085317373275|0.0982085317373275|   0.037543412297964| 817400.0|  DIS|\n",
      "|1962-02-19|               0.0|           29.9375|             29.75|           29.9375|  0.4996414482593536|   1600.0|  DTE|\n",
      "|1962-02-19|               0.0|          9.921875|          9.890625|          9.921875|  0.2249917536973952|   8800.0|   ED|\n",
      "|1962-02-19|               0.0| 7.083333492279053| 7.020833492279053| 7.020833492279053|  0.9129652380943298|  20400.0|   FL|\n",
      "|1962-02-19|0.7737379670143127|0.7774940133094788|0.7637219429016113|0.7674779891967773|  0.0018262817757204|1557500.0|   GE|\n",
      "|1962-02-19|               0.0|           10.9375|             10.75|           10.9375|  1.9131780862808228|  22800.0|   GT|\n",
      "|1962-02-19|0.1126461774110794|0.1139766424894332|0.1126461774110794|0.1130896657705307|  0.0062723471783101| 591800.0|  HPQ|\n",
      "|1962-02-19| 7.260000228881836| 7.293333530426025| 7.173333168029785| 7.186666488647461|  0.5825691223144531| 280000.0|  IBM|\n",
      "|1962-02-19|               0.0|   9.0038480758667| 8.822562217712402| 8.882990837097168|  0.7784165143966675|  39300.0|   IP|\n",
      "|1962-02-19|               0.0|0.2320601791143417|0.2320601791143417|0.2320601791143417|6.541048946928639...|  43200.0|  JNJ|\n",
      "|1962-02-19|0.2415364533662796|0.2434895783662796|0.2415364533662796|0.2434895783662796|  0.0039230370894074| 345600.0|   KO|\n",
      "|1962-02-19|               0.0|0.1788194477558136|0.1762152761220932|0.1770833283662796|  0.0002167469356209| 460800.0|   MO|\n",
      "|1962-02-19|               0.0|             280.0|           276.875|           279.375|  124.94374084472656|    600.0|  NAV|\n",
      "|1962-02-19|               0.0|         1.2734375|          1.265625|          1.265625|  0.0120115065947175| 281600.0|   PG|\n",
      "|1962-02-19|               0.0|        1.74609375|         1.7109375|        1.73828125|  0.0154947629198431|1657600.0|  XOM|\n",
      "+----------+------------------+------------------+------------------+------------------+--------------------+---------+-----+\n",
      "only showing top 20 rows\n",
      "\n"
     ]
    }
   ],
   "source": [
    "#TODO: Write your code here\n",
    "# Read the parquet files for 1962 into a Spark DataFrame\n",
    "df = spark.read.parquet(\"processing_big_data_final\") \n",
    "df.show()\n"
   ]
  },
  {
   "cell_type": "markdown",
   "metadata": {},
   "source": [
    "## Metadata \n",
    "\n",
    "Metadata is data containing additional information about the data itself. In the cloud storage, there is a metadata file called [`symbols_valid_meta.csv`](https://processing-big-data-predict-stocks-data.s3.eu-west-1.amazonaws.com/symbols_valid_meta.csv) that is collocated with the stock market data. You will need to download this to use when performing your data quality checks.\n",
    "\n",
    "> ℹ️ **Instructions** ℹ️\n",
    ">\n",
    "> Download the metadata from the S3 bucket and read it into a Spark DataFrame."
   ]
  },
  {
   "cell_type": "code",
   "execution_count": 70,
   "metadata": {},
   "outputs": [
    {
     "name": "stdout",
     "output_type": "stream",
     "text": [
      "+-------------+------+--------------------+----------------+---------------+---+--------------+----------+----------------+----------+-------------+----------+\n",
      "|Nasdaq Traded|Symbol|       Security Name|Listing Exchange|Market Category|ETF|Round Lot Size|Test Issue|Financial Status|CQS Symbol|NASDAQ Symbol|NextShares|\n",
      "+-------------+------+--------------------+----------------+---------------+---+--------------+----------+----------------+----------+-------------+----------+\n",
      "|            Y|     A|Agilent Technolog...|               N|               |  N|         100.0|         N|            null|         A|            A|         N|\n",
      "|            Y|    AA|Alcoa Corporation...|               N|               |  N|         100.0|         N|            null|        AA|           AA|         N|\n",
      "|            Y|  AAAU|Perth Mint Physic...|               P|               |  Y|         100.0|         N|            null|      AAAU|         AAAU|         N|\n",
      "|            Y|  AACG|ATA Creativity Gl...|               Q|              G|  N|         100.0|         N|               N|      null|         AACG|         N|\n",
      "|            Y|  AADR|AdvisorShares Dor...|               P|               |  Y|         100.0|         N|            null|      AADR|         AADR|         N|\n",
      "|            Y|   AAL|American Airlines...|               Q|              Q|  N|         100.0|         N|               N|      null|          AAL|         N|\n",
      "|            Y|  AAMC|Altisource Asset ...|               A|               |  N|         100.0|         N|            null|      AAMC|         AAMC|         N|\n",
      "|            Y|  AAME|Atlantic American...|               Q|              G|  N|         100.0|         N|               N|      null|         AAME|         N|\n",
      "|            Y|   AAN|Aaron's, Inc. Com...|               N|               |  N|         100.0|         N|            null|       AAN|          AAN|         N|\n",
      "|            Y|  AAOI|Applied Optoelect...|               Q|              G|  N|         100.0|         N|               N|      null|         AAOI|         N|\n",
      "|            Y|  AAON|AAON, Inc. - Comm...|               Q|              Q|  N|         100.0|         N|               N|      null|         AAON|         N|\n",
      "|            Y|   AAP|Advance Auto Part...|               N|               |  N|         100.0|         N|            null|       AAP|          AAP|         N|\n",
      "|            Y|  AAPL|Apple Inc. - Comm...|               Q|              Q|  N|         100.0|         N|               N|      null|         AAPL|         N|\n",
      "|            Y|   AAT|American Assets T...|               N|               |  N|         100.0|         N|            null|       AAT|          AAT|         N|\n",
      "|            Y|   AAU|Almaden Minerals,...|               A|               |  N|         100.0|         N|            null|       AAU|          AAU|         N|\n",
      "|            Y|  AAWW|Atlas Air Worldwi...|               Q|              Q|  N|         100.0|         N|               N|      null|         AAWW|         N|\n",
      "|            Y|  AAXJ|iShares MSCI All ...|               Q|              G|  Y|         100.0|         N|               N|      null|         AAXJ|         N|\n",
      "|            Y|  AAXN|Axon Enterprise, ...|               Q|              Q|  N|         100.0|         N|               N|      null|         AAXN|         N|\n",
      "|            Y|    AB|AllianceBernstein...|               N|               |  N|         100.0|         N|            null|        AB|           AB|         N|\n",
      "|            Y|   ABB|ABB Ltd Common Stock|               N|               |  N|         100.0|         N|            null|       ABB|          ABB|         N|\n",
      "+-------------+------+--------------------+----------------+---------------+---+--------------+----------+----------------+----------+-------------+----------+\n",
      "only showing top 20 rows\n",
      "\n",
      "DataFrame[Nasdaq Traded: string, Symbol: string, Security Name: string, Listing Exchange: string, Market Category: string, ETF: string, Round Lot Size: string, Test Issue: string, Financial Status: string, CQS Symbol: string, NASDAQ Symbol: string, NextShares: string]\n"
     ]
    }
   ],
   "source": [
    "#TODO: Write your code here \n",
    "df_Meta = spark.read.option('header', True).format('csv').load(path = \"symbols_valid_meta (1).csv\")\n",
    "#df_Meta = spark.read.csv(\"symbols_valid_meta (1).csv\")  \n",
    "df_Meta.show() \n",
    "\n",
    "print(df_Meta)\n"
   ]
  },
  {
   "cell_type": "markdown",
   "metadata": {},
   "source": [
    "## Data Accuracy\n",
    "Data accuracy is the degree to which data correctly describes a \"real world\" object or event.\n",
    "\n",
    "It is important to do checks to determine the basic integrity of the dataset; do the values fall within expected ranges?\n",
    "\n",
    "Most of the possible errors relating to data accuracy can occur at collection time. In our case, it is not possible to test the collection time accuracy, so we have to infer from ranges and summary statistics. Here you need to look closely at each field to see if its values make sense, with no strange surprises.\n",
    "\n",
    "In assessing accuracy, it is important to look into precision as well. Do you need seven decimals, or will one or two suffice?\n",
    "\n",
    "- **Measured by**: The degree to which the data mirrors the characteristics of the real-world object or objects it represents;\n",
    "- **Units**: The percentage of data entries that pass the data accuracy rules;\n",
    "- **Related to**: Validity, Uniqueness, Consistency."
   ]
  },
  {
   "cell_type": "markdown",
   "metadata": {},
   "source": [
    "> ℹ️ **Instructions** ℹ️\n",
    ">\n",
    "> Generate summary statistics to explore your data. Make sure you understand the ranges, means, extremums, and deviations found in the data set."
   ]
  },
  {
   "cell_type": "code",
   "execution_count": 71,
   "metadata": {
    "scrolled": true
   },
   "outputs": [
    {
     "name": "stdout",
     "output_type": "stream",
     "text": [
      "+-------+----------+------------------+------------------+--------------------+--------------------+--------------------+-----------------+-----+\n",
      "|summary|      date|              open|              high|                 low|               close|           adj_close|           volume|stock|\n",
      "+-------+----------+------------------+------------------+--------------------+--------------------+--------------------+-----------------+-----+\n",
      "|  count|      5106|              5106|              5106|                5084|                5106|                5106|             5085| 5106|\n",
      "|   mean|      null|1.0904873526012002|16.757624946793637|  15.728619917198033|   16.64199179044607|  5.9866425135353065|540930.2458210423| null|\n",
      "| stddev|      null|  2.36445352530491| 53.91407348193546|   51.32292289814399|   53.54677139900802|   24.64637054715319|864596.2440525505| null|\n",
      "|    min|1962-01-02|               0.0|               0.0|-0.04043552317256...|0.053624976426362984|-0.04100876298375...|              0.0|   AA|\n",
      "|    max|1962-12-31|7.7133331298828125|          9.984375|             9.96875|            9.984375|7.029978519312864...|         998400.0|  XOM|\n",
      "+-------+----------+------------------+------------------+--------------------+--------------------+--------------------+-----------------+-----+\n",
      "\n"
     ]
    },
    {
     "data": {
      "text/plain": [
       "pyspark.sql.column.Column"
      ]
     },
     "execution_count": 71,
     "metadata": {},
     "output_type": "execute_result"
    }
   ],
   "source": [
    "#TODO: Write your code here\n",
    "#df_Meta.agg(F.mean(\"_c0\"), F.stddev(\"_c1\")).show() \n",
    "df.describe().show(5)\n",
    "type(df[\"open\"])"
   ]
  },
  {
   "cell_type": "markdown",
   "metadata": {},
   "source": [
    "> ℹ️ **Instructions** ℹ️\n",
    ">\n",
    "> Generate histograms for the six numerical attributes found in the data to understand the distribution of values.\n",
    ">\n",
    ">*You may use as many coding cells as necessary.*"
   ]
  },
  {
   "cell_type": "code",
   "execution_count": 7,
   "metadata": {},
   "outputs": [
    {
     "ename": "Py4JJavaError",
     "evalue": "An error occurred while calling z:org.apache.spark.api.python.PythonRDD.collectAndServe.\n: org.apache.spark.SparkException: Job aborted due to stage failure: Task 0 in stage 7.0 failed 1 times, most recent failure: Lost task 0.0 in stage 7.0 (TID 7) (DESKTOP-9LJ13MS executor driver): org.apache.spark.api.python.PythonException: Traceback (most recent call last):\n  File \"C:\\spark-3.3.1-bin-hadoop3\\spark-3.3.1-bin-hadoop3\\python\\lib\\pyspark.zip\\pyspark\\worker.py\", line 540, in main\nRuntimeError: Python in worker has different version 3.10 than that in driver 3.9, PySpark cannot run with different minor versions. Please check environment variables PYSPARK_PYTHON and PYSPARK_DRIVER_PYTHON are correctly set.\n\r\n\tat org.apache.spark.api.python.BasePythonRunner$ReaderIterator.handlePythonException(PythonRunner.scala:559)\r\n\tat org.apache.spark.api.python.PythonRunner$$anon$3.read(PythonRunner.scala:765)\r\n\tat org.apache.spark.api.python.PythonRunner$$anon$3.read(PythonRunner.scala:747)\r\n\tat org.apache.spark.api.python.BasePythonRunner$ReaderIterator.hasNext(PythonRunner.scala:512)\r\n\tat org.apache.spark.InterruptibleIterator.hasNext(InterruptibleIterator.scala:37)\r\n\tat scala.collection.Iterator.foreach(Iterator.scala:943)\r\n\tat scala.collection.Iterator.foreach$(Iterator.scala:943)\r\n\tat org.apache.spark.InterruptibleIterator.foreach(InterruptibleIterator.scala:28)\r\n\tat scala.collection.generic.Growable.$plus$plus$eq(Growable.scala:62)\r\n\tat scala.collection.generic.Growable.$plus$plus$eq$(Growable.scala:53)\r\n\tat scala.collection.mutable.ArrayBuffer.$plus$plus$eq(ArrayBuffer.scala:105)\r\n\tat scala.collection.mutable.ArrayBuffer.$plus$plus$eq(ArrayBuffer.scala:49)\r\n\tat scala.collection.TraversableOnce.to(TraversableOnce.scala:366)\r\n\tat scala.collection.TraversableOnce.to$(TraversableOnce.scala:364)\r\n\tat org.apache.spark.InterruptibleIterator.to(InterruptibleIterator.scala:28)\r\n\tat scala.collection.TraversableOnce.toBuffer(TraversableOnce.scala:358)\r\n\tat scala.collection.TraversableOnce.toBuffer$(TraversableOnce.scala:358)\r\n\tat org.apache.spark.InterruptibleIterator.toBuffer(InterruptibleIterator.scala:28)\r\n\tat scala.collection.TraversableOnce.toArray(TraversableOnce.scala:345)\r\n\tat scala.collection.TraversableOnce.toArray$(TraversableOnce.scala:339)\r\n\tat org.apache.spark.InterruptibleIterator.toArray(InterruptibleIterator.scala:28)\r\n\tat org.apache.spark.rdd.RDD.$anonfun$collect$2(RDD.scala:1021)\r\n\tat org.apache.spark.SparkContext.$anonfun$runJob$5(SparkContext.scala:2268)\r\n\tat org.apache.spark.scheduler.ResultTask.runTask(ResultTask.scala:90)\r\n\tat org.apache.spark.scheduler.Task.run(Task.scala:136)\r\n\tat org.apache.spark.executor.Executor$TaskRunner.$anonfun$run$3(Executor.scala:548)\r\n\tat org.apache.spark.util.Utils$.tryWithSafeFinally(Utils.scala:1504)\r\n\tat org.apache.spark.executor.Executor$TaskRunner.run(Executor.scala:551)\r\n\tat java.util.concurrent.ThreadPoolExecutor.runWorker(ThreadPoolExecutor.java:1149)\r\n\tat java.util.concurrent.ThreadPoolExecutor$Worker.run(ThreadPoolExecutor.java:624)\r\n\tat java.lang.Thread.run(Thread.java:750)\r\n\nDriver stacktrace:\r\n\tat org.apache.spark.scheduler.DAGScheduler.failJobAndIndependentStages(DAGScheduler.scala:2672)\r\n\tat org.apache.spark.scheduler.DAGScheduler.$anonfun$abortStage$2(DAGScheduler.scala:2608)\r\n\tat org.apache.spark.scheduler.DAGScheduler.$anonfun$abortStage$2$adapted(DAGScheduler.scala:2607)\r\n\tat scala.collection.mutable.ResizableArray.foreach(ResizableArray.scala:62)\r\n\tat scala.collection.mutable.ResizableArray.foreach$(ResizableArray.scala:55)\r\n\tat scala.collection.mutable.ArrayBuffer.foreach(ArrayBuffer.scala:49)\r\n\tat org.apache.spark.scheduler.DAGScheduler.abortStage(DAGScheduler.scala:2607)\r\n\tat org.apache.spark.scheduler.DAGScheduler.$anonfun$handleTaskSetFailed$1(DAGScheduler.scala:1182)\r\n\tat org.apache.spark.scheduler.DAGScheduler.$anonfun$handleTaskSetFailed$1$adapted(DAGScheduler.scala:1182)\r\n\tat scala.Option.foreach(Option.scala:407)\r\n\tat org.apache.spark.scheduler.DAGScheduler.handleTaskSetFailed(DAGScheduler.scala:1182)\r\n\tat org.apache.spark.scheduler.DAGSchedulerEventProcessLoop.doOnReceive(DAGScheduler.scala:2860)\r\n\tat org.apache.spark.scheduler.DAGSchedulerEventProcessLoop.onReceive(DAGScheduler.scala:2802)\r\n\tat org.apache.spark.scheduler.DAGSchedulerEventProcessLoop.onReceive(DAGScheduler.scala:2791)\r\n\tat org.apache.spark.util.EventLoop$$anon$1.run(EventLoop.scala:49)\r\n\tat org.apache.spark.scheduler.DAGScheduler.runJob(DAGScheduler.scala:952)\r\n\tat org.apache.spark.SparkContext.runJob(SparkContext.scala:2228)\r\n\tat org.apache.spark.SparkContext.runJob(SparkContext.scala:2249)\r\n\tat org.apache.spark.SparkContext.runJob(SparkContext.scala:2268)\r\n\tat org.apache.spark.SparkContext.runJob(SparkContext.scala:2293)\r\n\tat org.apache.spark.rdd.RDD.$anonfun$collect$1(RDD.scala:1021)\r\n\tat org.apache.spark.rdd.RDDOperationScope$.withScope(RDDOperationScope.scala:151)\r\n\tat org.apache.spark.rdd.RDDOperationScope$.withScope(RDDOperationScope.scala:112)\r\n\tat org.apache.spark.rdd.RDD.withScope(RDD.scala:406)\r\n\tat org.apache.spark.rdd.RDD.collect(RDD.scala:1020)\r\n\tat org.apache.spark.api.python.PythonRDD$.collectAndServe(PythonRDD.scala:180)\r\n\tat org.apache.spark.api.python.PythonRDD.collectAndServe(PythonRDD.scala)\r\n\tat sun.reflect.NativeMethodAccessorImpl.invoke0(Native Method)\r\n\tat sun.reflect.NativeMethodAccessorImpl.invoke(NativeMethodAccessorImpl.java:62)\r\n\tat sun.reflect.DelegatingMethodAccessorImpl.invoke(DelegatingMethodAccessorImpl.java:43)\r\n\tat java.lang.reflect.Method.invoke(Method.java:498)\r\n\tat py4j.reflection.MethodInvoker.invoke(MethodInvoker.java:244)\r\n\tat py4j.reflection.ReflectionEngine.invoke(ReflectionEngine.java:357)\r\n\tat py4j.Gateway.invoke(Gateway.java:282)\r\n\tat py4j.commands.AbstractCommand.invokeMethod(AbstractCommand.java:132)\r\n\tat py4j.commands.CallCommand.execute(CallCommand.java:79)\r\n\tat py4j.ClientServerConnection.waitForCommands(ClientServerConnection.java:182)\r\n\tat py4j.ClientServerConnection.run(ClientServerConnection.java:106)\r\n\tat java.lang.Thread.run(Thread.java:750)\r\nCaused by: org.apache.spark.api.python.PythonException: Traceback (most recent call last):\n  File \"C:\\spark-3.3.1-bin-hadoop3\\spark-3.3.1-bin-hadoop3\\python\\lib\\pyspark.zip\\pyspark\\worker.py\", line 540, in main\nRuntimeError: Python in worker has different version 3.10 than that in driver 3.9, PySpark cannot run with different minor versions. Please check environment variables PYSPARK_PYTHON and PYSPARK_DRIVER_PYTHON are correctly set.\n\r\n\tat org.apache.spark.api.python.BasePythonRunner$ReaderIterator.handlePythonException(PythonRunner.scala:559)\r\n\tat org.apache.spark.api.python.PythonRunner$$anon$3.read(PythonRunner.scala:765)\r\n\tat org.apache.spark.api.python.PythonRunner$$anon$3.read(PythonRunner.scala:747)\r\n\tat org.apache.spark.api.python.BasePythonRunner$ReaderIterator.hasNext(PythonRunner.scala:512)\r\n\tat org.apache.spark.InterruptibleIterator.hasNext(InterruptibleIterator.scala:37)\r\n\tat scala.collection.Iterator.foreach(Iterator.scala:943)\r\n\tat scala.collection.Iterator.foreach$(Iterator.scala:943)\r\n\tat org.apache.spark.InterruptibleIterator.foreach(InterruptibleIterator.scala:28)\r\n\tat scala.collection.generic.Growable.$plus$plus$eq(Growable.scala:62)\r\n\tat scala.collection.generic.Growable.$plus$plus$eq$(Growable.scala:53)\r\n\tat scala.collection.mutable.ArrayBuffer.$plus$plus$eq(ArrayBuffer.scala:105)\r\n\tat scala.collection.mutable.ArrayBuffer.$plus$plus$eq(ArrayBuffer.scala:49)\r\n\tat scala.collection.TraversableOnce.to(TraversableOnce.scala:366)\r\n\tat scala.collection.TraversableOnce.to$(TraversableOnce.scala:364)\r\n\tat org.apache.spark.InterruptibleIterator.to(InterruptibleIterator.scala:28)\r\n\tat scala.collection.TraversableOnce.toBuffer(TraversableOnce.scala:358)\r\n\tat scala.collection.TraversableOnce.toBuffer$(TraversableOnce.scala:358)\r\n\tat org.apache.spark.InterruptibleIterator.toBuffer(InterruptibleIterator.scala:28)\r\n\tat scala.collection.TraversableOnce.toArray(TraversableOnce.scala:345)\r\n\tat scala.collection.TraversableOnce.toArray$(TraversableOnce.scala:339)\r\n\tat org.apache.spark.InterruptibleIterator.toArray(InterruptibleIterator.scala:28)\r\n\tat org.apache.spark.rdd.RDD.$anonfun$collect$2(RDD.scala:1021)\r\n\tat org.apache.spark.SparkContext.$anonfun$runJob$5(SparkContext.scala:2268)\r\n\tat org.apache.spark.scheduler.ResultTask.runTask(ResultTask.scala:90)\r\n\tat org.apache.spark.scheduler.Task.run(Task.scala:136)\r\n\tat org.apache.spark.executor.Executor$TaskRunner.$anonfun$run$3(Executor.scala:548)\r\n\tat org.apache.spark.util.Utils$.tryWithSafeFinally(Utils.scala:1504)\r\n\tat org.apache.spark.executor.Executor$TaskRunner.run(Executor.scala:551)\r\n\tat java.util.concurrent.ThreadPoolExecutor.runWorker(ThreadPoolExecutor.java:1149)\r\n\tat java.util.concurrent.ThreadPoolExecutor$Worker.run(ThreadPoolExecutor.java:624)\r\n\t... 1 more\r\n",
     "output_type": "error",
     "traceback": [
      "\u001b[1;31m---------------------------------------------------------------------------\u001b[0m",
      "\u001b[1;31mPy4JJavaError\u001b[0m                             Traceback (most recent call last)",
      "\u001b[1;32m~\\AppData\\Local\\Temp\\ipykernel_16288\\2113437682.py\u001b[0m in \u001b[0;36m<module>\u001b[1;34m\u001b[0m\n\u001b[0;32m     10\u001b[0m \u001b[1;31m# Generate a histogram for each attribute\u001b[0m\u001b[1;33m\u001b[0m\u001b[1;33m\u001b[0m\u001b[0m\n\u001b[0;32m     11\u001b[0m \u001b[1;32mfor\u001b[0m \u001b[0mi\u001b[0m\u001b[1;33m,\u001b[0m \u001b[0mcol\u001b[0m \u001b[1;32min\u001b[0m \u001b[0menumerate\u001b[0m\u001b[1;33m(\u001b[0m\u001b[0mnum_cols\u001b[0m\u001b[1;33m)\u001b[0m\u001b[1;33m:\u001b[0m\u001b[1;33m\u001b[0m\u001b[1;33m\u001b[0m\u001b[0m\n\u001b[1;32m---> 12\u001b[1;33m     \u001b[0maxs\u001b[0m\u001b[1;33m[\u001b[0m\u001b[0mi\u001b[0m\u001b[1;33m]\u001b[0m\u001b[1;33m.\u001b[0m\u001b[0mhist\u001b[0m\u001b[1;33m(\u001b[0m\u001b[0mdf\u001b[0m\u001b[1;33m.\u001b[0m\u001b[0mselect\u001b[0m\u001b[1;33m(\u001b[0m\u001b[0mcol\u001b[0m\u001b[1;33m)\u001b[0m\u001b[1;33m.\u001b[0m\u001b[0mrdd\u001b[0m\u001b[1;33m.\u001b[0m\u001b[0mflatMap\u001b[0m\u001b[1;33m(\u001b[0m\u001b[1;32mlambda\u001b[0m \u001b[0mx\u001b[0m\u001b[1;33m:\u001b[0m \u001b[0mx\u001b[0m\u001b[1;33m)\u001b[0m\u001b[1;33m.\u001b[0m\u001b[0mcollect\u001b[0m\u001b[1;33m(\u001b[0m\u001b[1;33m)\u001b[0m\u001b[1;33m,\u001b[0m \u001b[0mbins\u001b[0m\u001b[1;33m=\u001b[0m\u001b[1;36m20\u001b[0m\u001b[1;33m)\u001b[0m\u001b[1;33m\u001b[0m\u001b[1;33m\u001b[0m\u001b[0m\n\u001b[0m\u001b[0;32m     13\u001b[0m     \u001b[0maxs\u001b[0m\u001b[1;33m[\u001b[0m\u001b[0mi\u001b[0m\u001b[1;33m]\u001b[0m\u001b[1;33m.\u001b[0m\u001b[0mset_title\u001b[0m\u001b[1;33m(\u001b[0m\u001b[0mcol\u001b[0m\u001b[1;33m)\u001b[0m\u001b[1;33m\u001b[0m\u001b[1;33m\u001b[0m\u001b[0m\n\u001b[0;32m     14\u001b[0m \u001b[1;33m\u001b[0m\u001b[0m\n",
      "\u001b[1;32m~\\AppData\\Roaming\\Python\\Python39\\site-packages\\pyspark\\rdd.py\u001b[0m in \u001b[0;36mcollect\u001b[1;34m(self)\u001b[0m\n\u001b[0;32m   1195\u001b[0m         \u001b[1;32mwith\u001b[0m \u001b[0mSCCallSiteSync\u001b[0m\u001b[1;33m(\u001b[0m\u001b[0mself\u001b[0m\u001b[1;33m.\u001b[0m\u001b[0mcontext\u001b[0m\u001b[1;33m)\u001b[0m\u001b[1;33m:\u001b[0m\u001b[1;33m\u001b[0m\u001b[1;33m\u001b[0m\u001b[0m\n\u001b[0;32m   1196\u001b[0m             \u001b[1;32massert\u001b[0m \u001b[0mself\u001b[0m\u001b[1;33m.\u001b[0m\u001b[0mctx\u001b[0m\u001b[1;33m.\u001b[0m\u001b[0m_jvm\u001b[0m \u001b[1;32mis\u001b[0m \u001b[1;32mnot\u001b[0m \u001b[1;32mNone\u001b[0m\u001b[1;33m\u001b[0m\u001b[1;33m\u001b[0m\u001b[0m\n\u001b[1;32m-> 1197\u001b[1;33m             \u001b[0msock_info\u001b[0m \u001b[1;33m=\u001b[0m \u001b[0mself\u001b[0m\u001b[1;33m.\u001b[0m\u001b[0mctx\u001b[0m\u001b[1;33m.\u001b[0m\u001b[0m_jvm\u001b[0m\u001b[1;33m.\u001b[0m\u001b[0mPythonRDD\u001b[0m\u001b[1;33m.\u001b[0m\u001b[0mcollectAndServe\u001b[0m\u001b[1;33m(\u001b[0m\u001b[0mself\u001b[0m\u001b[1;33m.\u001b[0m\u001b[0m_jrdd\u001b[0m\u001b[1;33m.\u001b[0m\u001b[0mrdd\u001b[0m\u001b[1;33m(\u001b[0m\u001b[1;33m)\u001b[0m\u001b[1;33m)\u001b[0m\u001b[1;33m\u001b[0m\u001b[1;33m\u001b[0m\u001b[0m\n\u001b[0m\u001b[0;32m   1198\u001b[0m         \u001b[1;32mreturn\u001b[0m \u001b[0mlist\u001b[0m\u001b[1;33m(\u001b[0m\u001b[0m_load_from_socket\u001b[0m\u001b[1;33m(\u001b[0m\u001b[0msock_info\u001b[0m\u001b[1;33m,\u001b[0m \u001b[0mself\u001b[0m\u001b[1;33m.\u001b[0m\u001b[0m_jrdd_deserializer\u001b[0m\u001b[1;33m)\u001b[0m\u001b[1;33m)\u001b[0m\u001b[1;33m\u001b[0m\u001b[1;33m\u001b[0m\u001b[0m\n\u001b[0;32m   1199\u001b[0m \u001b[1;33m\u001b[0m\u001b[0m\n",
      "\u001b[1;32m~\\AppData\\Roaming\\Python\\Python39\\site-packages\\py4j\\java_gateway.py\u001b[0m in \u001b[0;36m__call__\u001b[1;34m(self, *args)\u001b[0m\n\u001b[0;32m   1319\u001b[0m \u001b[1;33m\u001b[0m\u001b[0m\n\u001b[0;32m   1320\u001b[0m         \u001b[0manswer\u001b[0m \u001b[1;33m=\u001b[0m \u001b[0mself\u001b[0m\u001b[1;33m.\u001b[0m\u001b[0mgateway_client\u001b[0m\u001b[1;33m.\u001b[0m\u001b[0msend_command\u001b[0m\u001b[1;33m(\u001b[0m\u001b[0mcommand\u001b[0m\u001b[1;33m)\u001b[0m\u001b[1;33m\u001b[0m\u001b[1;33m\u001b[0m\u001b[0m\n\u001b[1;32m-> 1321\u001b[1;33m         return_value = get_return_value(\n\u001b[0m\u001b[0;32m   1322\u001b[0m             answer, self.gateway_client, self.target_id, self.name)\n\u001b[0;32m   1323\u001b[0m \u001b[1;33m\u001b[0m\u001b[0m\n",
      "\u001b[1;32m~\\AppData\\Roaming\\Python\\Python39\\site-packages\\pyspark\\sql\\utils.py\u001b[0m in \u001b[0;36mdeco\u001b[1;34m(*a, **kw)\u001b[0m\n\u001b[0;32m    188\u001b[0m     \u001b[1;32mdef\u001b[0m \u001b[0mdeco\u001b[0m\u001b[1;33m(\u001b[0m\u001b[1;33m*\u001b[0m\u001b[0ma\u001b[0m\u001b[1;33m:\u001b[0m \u001b[0mAny\u001b[0m\u001b[1;33m,\u001b[0m \u001b[1;33m**\u001b[0m\u001b[0mkw\u001b[0m\u001b[1;33m:\u001b[0m \u001b[0mAny\u001b[0m\u001b[1;33m)\u001b[0m \u001b[1;33m->\u001b[0m \u001b[0mAny\u001b[0m\u001b[1;33m:\u001b[0m\u001b[1;33m\u001b[0m\u001b[1;33m\u001b[0m\u001b[0m\n\u001b[0;32m    189\u001b[0m         \u001b[1;32mtry\u001b[0m\u001b[1;33m:\u001b[0m\u001b[1;33m\u001b[0m\u001b[1;33m\u001b[0m\u001b[0m\n\u001b[1;32m--> 190\u001b[1;33m             \u001b[1;32mreturn\u001b[0m \u001b[0mf\u001b[0m\u001b[1;33m(\u001b[0m\u001b[1;33m*\u001b[0m\u001b[0ma\u001b[0m\u001b[1;33m,\u001b[0m \u001b[1;33m**\u001b[0m\u001b[0mkw\u001b[0m\u001b[1;33m)\u001b[0m\u001b[1;33m\u001b[0m\u001b[1;33m\u001b[0m\u001b[0m\n\u001b[0m\u001b[0;32m    191\u001b[0m         \u001b[1;32mexcept\u001b[0m \u001b[0mPy4JJavaError\u001b[0m \u001b[1;32mas\u001b[0m \u001b[0me\u001b[0m\u001b[1;33m:\u001b[0m\u001b[1;33m\u001b[0m\u001b[1;33m\u001b[0m\u001b[0m\n\u001b[0;32m    192\u001b[0m             \u001b[0mconverted\u001b[0m \u001b[1;33m=\u001b[0m \u001b[0mconvert_exception\u001b[0m\u001b[1;33m(\u001b[0m\u001b[0me\u001b[0m\u001b[1;33m.\u001b[0m\u001b[0mjava_exception\u001b[0m\u001b[1;33m)\u001b[0m\u001b[1;33m\u001b[0m\u001b[1;33m\u001b[0m\u001b[0m\n",
      "\u001b[1;32m~\\AppData\\Roaming\\Python\\Python39\\site-packages\\py4j\\protocol.py\u001b[0m in \u001b[0;36mget_return_value\u001b[1;34m(answer, gateway_client, target_id, name)\u001b[0m\n\u001b[0;32m    324\u001b[0m             \u001b[0mvalue\u001b[0m \u001b[1;33m=\u001b[0m \u001b[0mOUTPUT_CONVERTER\u001b[0m\u001b[1;33m[\u001b[0m\u001b[0mtype\u001b[0m\u001b[1;33m]\u001b[0m\u001b[1;33m(\u001b[0m\u001b[0manswer\u001b[0m\u001b[1;33m[\u001b[0m\u001b[1;36m2\u001b[0m\u001b[1;33m:\u001b[0m\u001b[1;33m]\u001b[0m\u001b[1;33m,\u001b[0m \u001b[0mgateway_client\u001b[0m\u001b[1;33m)\u001b[0m\u001b[1;33m\u001b[0m\u001b[1;33m\u001b[0m\u001b[0m\n\u001b[0;32m    325\u001b[0m             \u001b[1;32mif\u001b[0m \u001b[0manswer\u001b[0m\u001b[1;33m[\u001b[0m\u001b[1;36m1\u001b[0m\u001b[1;33m]\u001b[0m \u001b[1;33m==\u001b[0m \u001b[0mREFERENCE_TYPE\u001b[0m\u001b[1;33m:\u001b[0m\u001b[1;33m\u001b[0m\u001b[1;33m\u001b[0m\u001b[0m\n\u001b[1;32m--> 326\u001b[1;33m                 raise Py4JJavaError(\n\u001b[0m\u001b[0;32m    327\u001b[0m                     \u001b[1;34m\"An error occurred while calling {0}{1}{2}.\\n\"\u001b[0m\u001b[1;33m.\u001b[0m\u001b[1;33m\u001b[0m\u001b[1;33m\u001b[0m\u001b[0m\n\u001b[0;32m    328\u001b[0m                     format(target_id, \".\", name), value)\n",
      "\u001b[1;31mPy4JJavaError\u001b[0m: An error occurred while calling z:org.apache.spark.api.python.PythonRDD.collectAndServe.\n: org.apache.spark.SparkException: Job aborted due to stage failure: Task 0 in stage 7.0 failed 1 times, most recent failure: Lost task 0.0 in stage 7.0 (TID 7) (DESKTOP-9LJ13MS executor driver): org.apache.spark.api.python.PythonException: Traceback (most recent call last):\n  File \"C:\\spark-3.3.1-bin-hadoop3\\spark-3.3.1-bin-hadoop3\\python\\lib\\pyspark.zip\\pyspark\\worker.py\", line 540, in main\nRuntimeError: Python in worker has different version 3.10 than that in driver 3.9, PySpark cannot run with different minor versions. Please check environment variables PYSPARK_PYTHON and PYSPARK_DRIVER_PYTHON are correctly set.\n\r\n\tat org.apache.spark.api.python.BasePythonRunner$ReaderIterator.handlePythonException(PythonRunner.scala:559)\r\n\tat org.apache.spark.api.python.PythonRunner$$anon$3.read(PythonRunner.scala:765)\r\n\tat org.apache.spark.api.python.PythonRunner$$anon$3.read(PythonRunner.scala:747)\r\n\tat org.apache.spark.api.python.BasePythonRunner$ReaderIterator.hasNext(PythonRunner.scala:512)\r\n\tat org.apache.spark.InterruptibleIterator.hasNext(InterruptibleIterator.scala:37)\r\n\tat scala.collection.Iterator.foreach(Iterator.scala:943)\r\n\tat scala.collection.Iterator.foreach$(Iterator.scala:943)\r\n\tat org.apache.spark.InterruptibleIterator.foreach(InterruptibleIterator.scala:28)\r\n\tat scala.collection.generic.Growable.$plus$plus$eq(Growable.scala:62)\r\n\tat scala.collection.generic.Growable.$plus$plus$eq$(Growable.scala:53)\r\n\tat scala.collection.mutable.ArrayBuffer.$plus$plus$eq(ArrayBuffer.scala:105)\r\n\tat scala.collection.mutable.ArrayBuffer.$plus$plus$eq(ArrayBuffer.scala:49)\r\n\tat scala.collection.TraversableOnce.to(TraversableOnce.scala:366)\r\n\tat scala.collection.TraversableOnce.to$(TraversableOnce.scala:364)\r\n\tat org.apache.spark.InterruptibleIterator.to(InterruptibleIterator.scala:28)\r\n\tat scala.collection.TraversableOnce.toBuffer(TraversableOnce.scala:358)\r\n\tat scala.collection.TraversableOnce.toBuffer$(TraversableOnce.scala:358)\r\n\tat org.apache.spark.InterruptibleIterator.toBuffer(InterruptibleIterator.scala:28)\r\n\tat scala.collection.TraversableOnce.toArray(TraversableOnce.scala:345)\r\n\tat scala.collection.TraversableOnce.toArray$(TraversableOnce.scala:339)\r\n\tat org.apache.spark.InterruptibleIterator.toArray(InterruptibleIterator.scala:28)\r\n\tat org.apache.spark.rdd.RDD.$anonfun$collect$2(RDD.scala:1021)\r\n\tat org.apache.spark.SparkContext.$anonfun$runJob$5(SparkContext.scala:2268)\r\n\tat org.apache.spark.scheduler.ResultTask.runTask(ResultTask.scala:90)\r\n\tat org.apache.spark.scheduler.Task.run(Task.scala:136)\r\n\tat org.apache.spark.executor.Executor$TaskRunner.$anonfun$run$3(Executor.scala:548)\r\n\tat org.apache.spark.util.Utils$.tryWithSafeFinally(Utils.scala:1504)\r\n\tat org.apache.spark.executor.Executor$TaskRunner.run(Executor.scala:551)\r\n\tat java.util.concurrent.ThreadPoolExecutor.runWorker(ThreadPoolExecutor.java:1149)\r\n\tat java.util.concurrent.ThreadPoolExecutor$Worker.run(ThreadPoolExecutor.java:624)\r\n\tat java.lang.Thread.run(Thread.java:750)\r\n\nDriver stacktrace:\r\n\tat org.apache.spark.scheduler.DAGScheduler.failJobAndIndependentStages(DAGScheduler.scala:2672)\r\n\tat org.apache.spark.scheduler.DAGScheduler.$anonfun$abortStage$2(DAGScheduler.scala:2608)\r\n\tat org.apache.spark.scheduler.DAGScheduler.$anonfun$abortStage$2$adapted(DAGScheduler.scala:2607)\r\n\tat scala.collection.mutable.ResizableArray.foreach(ResizableArray.scala:62)\r\n\tat scala.collection.mutable.ResizableArray.foreach$(ResizableArray.scala:55)\r\n\tat scala.collection.mutable.ArrayBuffer.foreach(ArrayBuffer.scala:49)\r\n\tat org.apache.spark.scheduler.DAGScheduler.abortStage(DAGScheduler.scala:2607)\r\n\tat org.apache.spark.scheduler.DAGScheduler.$anonfun$handleTaskSetFailed$1(DAGScheduler.scala:1182)\r\n\tat org.apache.spark.scheduler.DAGScheduler.$anonfun$handleTaskSetFailed$1$adapted(DAGScheduler.scala:1182)\r\n\tat scala.Option.foreach(Option.scala:407)\r\n\tat org.apache.spark.scheduler.DAGScheduler.handleTaskSetFailed(DAGScheduler.scala:1182)\r\n\tat org.apache.spark.scheduler.DAGSchedulerEventProcessLoop.doOnReceive(DAGScheduler.scala:2860)\r\n\tat org.apache.spark.scheduler.DAGSchedulerEventProcessLoop.onReceive(DAGScheduler.scala:2802)\r\n\tat org.apache.spark.scheduler.DAGSchedulerEventProcessLoop.onReceive(DAGScheduler.scala:2791)\r\n\tat org.apache.spark.util.EventLoop$$anon$1.run(EventLoop.scala:49)\r\n\tat org.apache.spark.scheduler.DAGScheduler.runJob(DAGScheduler.scala:952)\r\n\tat org.apache.spark.SparkContext.runJob(SparkContext.scala:2228)\r\n\tat org.apache.spark.SparkContext.runJob(SparkContext.scala:2249)\r\n\tat org.apache.spark.SparkContext.runJob(SparkContext.scala:2268)\r\n\tat org.apache.spark.SparkContext.runJob(SparkContext.scala:2293)\r\n\tat org.apache.spark.rdd.RDD.$anonfun$collect$1(RDD.scala:1021)\r\n\tat org.apache.spark.rdd.RDDOperationScope$.withScope(RDDOperationScope.scala:151)\r\n\tat org.apache.spark.rdd.RDDOperationScope$.withScope(RDDOperationScope.scala:112)\r\n\tat org.apache.spark.rdd.RDD.withScope(RDD.scala:406)\r\n\tat org.apache.spark.rdd.RDD.collect(RDD.scala:1020)\r\n\tat org.apache.spark.api.python.PythonRDD$.collectAndServe(PythonRDD.scala:180)\r\n\tat org.apache.spark.api.python.PythonRDD.collectAndServe(PythonRDD.scala)\r\n\tat sun.reflect.NativeMethodAccessorImpl.invoke0(Native Method)\r\n\tat sun.reflect.NativeMethodAccessorImpl.invoke(NativeMethodAccessorImpl.java:62)\r\n\tat sun.reflect.DelegatingMethodAccessorImpl.invoke(DelegatingMethodAccessorImpl.java:43)\r\n\tat java.lang.reflect.Method.invoke(Method.java:498)\r\n\tat py4j.reflection.MethodInvoker.invoke(MethodInvoker.java:244)\r\n\tat py4j.reflection.ReflectionEngine.invoke(ReflectionEngine.java:357)\r\n\tat py4j.Gateway.invoke(Gateway.java:282)\r\n\tat py4j.commands.AbstractCommand.invokeMethod(AbstractCommand.java:132)\r\n\tat py4j.commands.CallCommand.execute(CallCommand.java:79)\r\n\tat py4j.ClientServerConnection.waitForCommands(ClientServerConnection.java:182)\r\n\tat py4j.ClientServerConnection.run(ClientServerConnection.java:106)\r\n\tat java.lang.Thread.run(Thread.java:750)\r\nCaused by: org.apache.spark.api.python.PythonException: Traceback (most recent call last):\n  File \"C:\\spark-3.3.1-bin-hadoop3\\spark-3.3.1-bin-hadoop3\\python\\lib\\pyspark.zip\\pyspark\\worker.py\", line 540, in main\nRuntimeError: Python in worker has different version 3.10 than that in driver 3.9, PySpark cannot run with different minor versions. Please check environment variables PYSPARK_PYTHON and PYSPARK_DRIVER_PYTHON are correctly set.\n\r\n\tat org.apache.spark.api.python.BasePythonRunner$ReaderIterator.handlePythonException(PythonRunner.scala:559)\r\n\tat org.apache.spark.api.python.PythonRunner$$anon$3.read(PythonRunner.scala:765)\r\n\tat org.apache.spark.api.python.PythonRunner$$anon$3.read(PythonRunner.scala:747)\r\n\tat org.apache.spark.api.python.BasePythonRunner$ReaderIterator.hasNext(PythonRunner.scala:512)\r\n\tat org.apache.spark.InterruptibleIterator.hasNext(InterruptibleIterator.scala:37)\r\n\tat scala.collection.Iterator.foreach(Iterator.scala:943)\r\n\tat scala.collection.Iterator.foreach$(Iterator.scala:943)\r\n\tat org.apache.spark.InterruptibleIterator.foreach(InterruptibleIterator.scala:28)\r\n\tat scala.collection.generic.Growable.$plus$plus$eq(Growable.scala:62)\r\n\tat scala.collection.generic.Growable.$plus$plus$eq$(Growable.scala:53)\r\n\tat scala.collection.mutable.ArrayBuffer.$plus$plus$eq(ArrayBuffer.scala:105)\r\n\tat scala.collection.mutable.ArrayBuffer.$plus$plus$eq(ArrayBuffer.scala:49)\r\n\tat scala.collection.TraversableOnce.to(TraversableOnce.scala:366)\r\n\tat scala.collection.TraversableOnce.to$(TraversableOnce.scala:364)\r\n\tat org.apache.spark.InterruptibleIterator.to(InterruptibleIterator.scala:28)\r\n\tat scala.collection.TraversableOnce.toBuffer(TraversableOnce.scala:358)\r\n\tat scala.collection.TraversableOnce.toBuffer$(TraversableOnce.scala:358)\r\n\tat org.apache.spark.InterruptibleIterator.toBuffer(InterruptibleIterator.scala:28)\r\n\tat scala.collection.TraversableOnce.toArray(TraversableOnce.scala:345)\r\n\tat scala.collection.TraversableOnce.toArray$(TraversableOnce.scala:339)\r\n\tat org.apache.spark.InterruptibleIterator.toArray(InterruptibleIterator.scala:28)\r\n\tat org.apache.spark.rdd.RDD.$anonfun$collect$2(RDD.scala:1021)\r\n\tat org.apache.spark.SparkContext.$anonfun$runJob$5(SparkContext.scala:2268)\r\n\tat org.apache.spark.scheduler.ResultTask.runTask(ResultTask.scala:90)\r\n\tat org.apache.spark.scheduler.Task.run(Task.scala:136)\r\n\tat org.apache.spark.executor.Executor$TaskRunner.$anonfun$run$3(Executor.scala:548)\r\n\tat org.apache.spark.util.Utils$.tryWithSafeFinally(Utils.scala:1504)\r\n\tat org.apache.spark.executor.Executor$TaskRunner.run(Executor.scala:551)\r\n\tat java.util.concurrent.ThreadPoolExecutor.runWorker(ThreadPoolExecutor.java:1149)\r\n\tat java.util.concurrent.ThreadPoolExecutor$Worker.run(ThreadPoolExecutor.java:624)\r\n\t... 1 more\r\n"
     ]
    },
    {
     "data": {
      "image/png": "[encoded data removed]",
      "text/plain": [
       "<Figure size 800x800 with 6 Axes>"
      ]
     },
     "metadata": {},
     "output_type": "display_data"
    }
   ],
   "source": [
    "import matplotlib.pyplot as plt\n",
    "\n",
    "# Define the list of column names for numerical attributes\n",
    "num_cols = [\"open\", \"high\", \"low\", \"close\", \"volume\", \"adj_close\"]\n",
    "\n",
    "# Set up a subplot for each attribute\n",
    "fig, axs = plt.subplots(len(num_cols), 1, figsize=(8, 8))\n",
    "fig.tight_layout(pad=3.0)\n",
    "\n",
    "# Generate a histogram for each attribute\n",
    "for i, col in enumerate(num_cols):\n",
    "    axs[i].hist(df.select(col).rdd.flatMap(lambda x: x).collect(), bins=20)\n",
    "    axs[i].set_title(col)\n",
    "\n",
    "plt.show()\n"
   ]
  },
  {
   "cell_type": "markdown",
   "metadata": {},
   "source": [
    "> ℹ️ **Instructions** ℹ️\n",
    ">\n",
    "> Investigate the **open** column to identify stocks that have open values greater than 2, and note any anomalies that you find in the data.\n",
    ">\n",
    ">*You may use as many coding cells as necessary.*"
   ]
  },
  {
   "cell_type": "code",
   "execution_count": 72,
   "metadata": {},
   "outputs": [
    {
     "name": "stdout",
     "output_type": "stream",
     "text": [
      "+----------+------------------+------------------+------------------+------------------+------------------+--------+-----+\n",
      "|      date|              open|              high|               low|             close|         adj_close|  volume|stock|\n",
      "+----------+------------------+------------------+------------------+------------------+------------------+--------+-----+\n",
      "|1962-02-19| 5.839290142059326| 5.907374858856201| 5.839290142059326| 5.863319873809815|1.3863292932510376| 29900.0|   AA|\n",
      "|1962-02-19| 5.481634140014648|5.5284857749938965| 5.481634140014648| 5.516772747039795|1.2804527282714844| 32000.0| ARNC|\n",
      "|1962-02-19| 7.260000228881836| 7.293333530426025| 7.173333168029785| 7.186666488647461|0.5825691223144531|280000.0|  IBM|\n",
      "|1962-02-14| 5.839290142059326| 5.839290142059326| 5.747175216674805| 5.807250022888184| 1.373071312904358| 56500.0|   AA|\n",
      "|1962-02-14| 5.481634140014648| 5.481634140014648| 5.399643898010254|   5.4347825050354|1.2614225149154663| 60400.0| ARNC|\n",
      "|1962-02-14| 7.306666851043701| 7.333333492279053|  7.28000020980835| 7.293333530426025|0.5912162661552429|208000.0|  IBM|\n",
      "|1962-02-13|5.8553099632263175| 5.915384769439697|5.8553099632263175| 5.863319873809815|1.3863292932510376| 62500.0|   AA|\n",
      "|1962-02-13| 5.505060195922852| 5.540198802947998| 5.505060195922852| 5.516772747039795|1.2804527282714844| 66800.0| ARNC|\n",
      "|1962-02-13| 7.426666736602782| 7.433333396911621| 7.306666851043701| 7.306666851043701|0.5922971367835999|256000.0|  IBM|\n",
      "|1962-02-26| 6.055560111999513|6.1076250076293945| 5.955434799194336|6.1076250076293945|1.4440926313400269| 82500.0|   AA|\n",
      "|1962-02-26|5.6924662590026855|5.7158918380737305|5.5987629890441895|5.7158918380737305| 1.326669216156006| 88100.0| ARNC|\n",
      "|1962-02-26|7.1599998474121085| 7.166666507720947| 7.119999885559082| 7.133333206176758| 0.578245997428894|299200.0|  IBM|\n",
      "|1962-02-06| 5.915384769439697| 5.915384769439697| 5.823269844055176|5.8553099632263175|1.3844348192214966| 40500.0|   AA|\n",
      "|1962-02-06| 5.540198802947998| 5.540198802947998| 5.458208560943604| 5.505060195922852|1.2777345180511477| 43300.0| ARNC|\n",
      "|1962-02-06| 7.346666812896728| 7.360000133514402| 7.320000171661378| 7.353333473205566|0.5960796475410461|256000.0|  IBM|\n",
      "|1962-02-02| 5.931405067443848| 5.955434799194336| 5.907374858856201| 5.915384769439697|1.3915650844573977| 30500.0|   AA|\n",
      "|1962-02-02| 5.563624382019043|5.5987629890441895|5.5284857749938965| 5.540198802947998|1.2794066667556765| 32600.0| ARNC|\n",
      "|1962-02-02| 7.393333435058594| 7.440000057220459| 7.360000133514402| 7.440000057220459|0.6030228137969971|507200.0|  IBM|\n",
      "|1962-02-16|  5.73916482925415|  5.83128023147583|  5.73916482925415|  5.83128023147583|1.3787535429000854| 55900.0|   AA|\n",
      "|1962-02-16| 5.387930870056152| 5.469921112060547| 5.387930870056152| 5.469921112060547|1.2695785760879517| 59700.0| ARNC|\n",
      "+----------+------------------+------------------+------------------+------------------+------------------+--------+-----+\n",
      "only showing top 20 rows\n",
      "\n",
      "+----------+------------------+------------------+------------------+------------------+------------------+--------+-----+\n",
      "|      date|              open|              high|               low|             close|         adj_close|  volume|stock|\n",
      "+----------+------------------+------------------+------------------+------------------+------------------+--------+-----+\n",
      "|1962-02-19| 5.839290142059326| 5.907374858856201| 5.839290142059326| 5.863319873809815|1.3863292932510376| 29900.0|   AA|\n",
      "|1962-02-19| 5.481634140014648|5.5284857749938965| 5.481634140014648| 5.516772747039795|1.2804527282714844| 32000.0| ARNC|\n",
      "|1962-02-19| 7.260000228881836| 7.293333530426025| 7.173333168029785| 7.186666488647461|0.5825691223144531|280000.0|  IBM|\n",
      "|1962-02-14| 5.839290142059326| 5.839290142059326| 5.747175216674805| 5.807250022888184| 1.373071312904358| 56500.0|   AA|\n",
      "|1962-02-14| 5.481634140014648| 5.481634140014648| 5.399643898010254|   5.4347825050354|1.2614225149154663| 60400.0| ARNC|\n",
      "|1962-02-14| 7.306666851043701| 7.333333492279053|  7.28000020980835| 7.293333530426025|0.5912162661552429|208000.0|  IBM|\n",
      "|1962-02-13|5.8553099632263175| 5.915384769439697|5.8553099632263175| 5.863319873809815|1.3863292932510376| 62500.0|   AA|\n",
      "|1962-02-13| 5.505060195922852| 5.540198802947998| 5.505060195922852| 5.516772747039795|1.2804527282714844| 66800.0| ARNC|\n",
      "|1962-02-13| 7.426666736602782| 7.433333396911621| 7.306666851043701| 7.306666851043701|0.5922971367835999|256000.0|  IBM|\n",
      "|1962-02-26| 6.055560111999513|6.1076250076293945| 5.955434799194336|6.1076250076293945|1.4440926313400269| 82500.0|   AA|\n",
      "|1962-02-26|5.6924662590026855|5.7158918380737305|5.5987629890441895|5.7158918380737305| 1.326669216156006| 88100.0| ARNC|\n",
      "|1962-02-26|7.1599998474121085| 7.166666507720947| 7.119999885559082| 7.133333206176758| 0.578245997428894|299200.0|  IBM|\n",
      "|1962-02-06| 5.915384769439697| 5.915384769439697| 5.823269844055176|5.8553099632263175|1.3844348192214966| 40500.0|   AA|\n",
      "|1962-02-06| 5.540198802947998| 5.540198802947998| 5.458208560943604| 5.505060195922852|1.2777345180511477| 43300.0| ARNC|\n",
      "|1962-02-06| 7.346666812896728| 7.360000133514402| 7.320000171661378| 7.353333473205566|0.5960796475410461|256000.0|  IBM|\n",
      "|1962-02-02| 5.931405067443848| 5.955434799194336| 5.907374858856201| 5.915384769439697|1.3915650844573977| 30500.0|   AA|\n",
      "|1962-02-02| 5.563624382019043|5.5987629890441895|5.5284857749938965| 5.540198802947998|1.2794066667556765| 32600.0| ARNC|\n",
      "|1962-02-02| 7.393333435058594| 7.440000057220459| 7.360000133514402| 7.440000057220459|0.6030228137969971|507200.0|  IBM|\n",
      "|1962-02-16|  5.73916482925415|  5.83128023147583|  5.73916482925415|  5.83128023147583|1.3787535429000854| 55900.0|   AA|\n",
      "|1962-02-16| 5.387930870056152| 5.469921112060547| 5.387930870056152| 5.469921112060547|1.2695785760879517| 59700.0| ARNC|\n",
      "+----------+------------------+------------------+------------------+------------------+------------------+--------+-----+\n",
      "only showing top 20 rows\n",
      "\n"
     ]
    }
   ],
   "source": [
    "#TODO: Write your code here \n",
    "\n",
    "# Filter the data to only include stocks with open values greater than 2\n",
    "filtered_data = df.filter(df[\"open\"] > 2)\n",
    "\n",
    "# Show the filtered data\n",
    "filtered_data.show() \n",
    "\n",
    "from pyspark.sql.functions import mean, stddev\n",
    "\n",
    "# Compute summary statistics\n",
    "open_stats = df.agg(mean(df['open']), stddev(df['open']))\n",
    "open_mean = open_stats.first()[0]\n",
    "open_stddev = open_stats.first()[1]\n",
    "\n",
    "# Identify stocks with open values greater than 2\n",
    "high_open = df.filter(df['open'] > 2)\n",
    "\n",
    "# Identify anomalies (values outside of mean +/- stddev range)\n",
    "anomalies = df.filter((df['open'] < (open_mean - open_stddev)) | (df['open'] > (open_mean + open_stddev))) \n",
    "anomalies.show()"
   ]
  },
  {
   "cell_type": "markdown",
   "metadata": {},
   "source": [
    " ## 📔️**Notes** 📔️\n",
    "\n",
    " *Use this cell to note down any potential findings.*\n",
    "\n",
    " 1.\n",
    " 2.\n",
    "    ...\n",
    " "
   ]
  },
  {
   "cell_type": "markdown",
   "metadata": {},
   "source": [
    "> ℹ️ **Instructions** ℹ️\n",
    ">\n",
    "> Investigate **high**, **low**, **close**, and **adj_close** to determine if any stocks may be deviating from the normal ranges of the data set. Note down the stock(s) that you come across.\n",
    ">\n",
    ">*You may use as many coding cells as necessary.*"
   ]
  },
  {
   "cell_type": "code",
   "execution_count": 73,
   "metadata": {},
   "outputs": [
    {
     "name": "stdout",
     "output_type": "stream",
     "text": [
      "date          0\n",
      "open          0\n",
      "high          0\n",
      "low          22\n",
      "close         0\n",
      "adj_close     0\n",
      "volume       21\n",
      "stock         0\n",
      "dtype: int64\n"
     ]
    },
    {
     "name": "stderr",
     "output_type": "stream",
     "text": [
      "C:\\Users\\lehumo  MOGOBA\\AppData\\Local\\Temp\\ipykernel_16288\\3561759937.py:11: FutureWarning: Dropping of nuisance columns in DataFrame reductions (with 'numeric_only=None') is deprecated; in a future version this will raise TypeError.  Select only valid columns before calling the reduction.\n",
      "  data_1962_pd[['high', 'low', 'close', 'adj_close']] = data_1962_pd[['high', 'low', 'close', 'adj_close']].apply(pd.to_numeric, errors='coerce').fillna(data_1962_pd[['high', 'low', 'close', 'adj_close']].mean())\n"
     ]
    },
    {
     "data": {
      "image/png": "[encoded data removed]",
      "text/plain": [
       "<Figure size 2000x1500 with 4 Axes>"
      ]
     },
     "metadata": {},
     "output_type": "display_data"
    }
   ],
   "source": [
    "# Convert the PySpark data frame to a Pandas data frame\n",
    "data_1962_pd = df.toPandas()\n",
    "\n",
    "# Check if any of the columns contain null values\n",
    "print(data_1962_pd.isnull().sum())\n",
    "\n",
    "# Drop any rows that contain null values\n",
    "data_1962_pd = data_1962_pd.dropna()\n",
    "\n",
    "# Replace non-numeric values with the mean of the respective column\n",
    "data_1962_pd[['high', 'low', 'close', 'adj_close']] = data_1962_pd[['high', 'low', 'close', 'adj_close']].apply(pd.to_numeric, errors='coerce').fillna(data_1962_pd[['high', 'low', 'close', 'adj_close']].mean())\n",
    "\n",
    "# Create a histogram of each of the high, low, close, and adj_close columns\n",
    "data_1962_pd[['high', 'low', 'close', 'adj_close']].hist(bins=50, figsize=(20,15))\n",
    "\n",
    "# Show the plot\n",
    "plt.show()\n",
    "\n",
    "\n",
    "\n",
    "\n",
    "\n",
    "\n",
    "\n",
    "\n"
   ]
  },
  {
   "cell_type": "markdown",
   "metadata": {},
   "source": [
    " ## 📔️**Notes** 📔️\n",
    "\n",
    " *Use this cell to note down any potential findings.*\n",
    "\n",
    " 1.\n",
    " 2.\n",
    "    ..."
   ]
  },
  {
   "cell_type": "markdown",
   "metadata": {},
   "source": [
    "\n",
    "\n",
    "## Completeness\n",
    "\n",
    "Completeness is the proportion of stored data against the potential of “100% complete\". This is the degree to which the required data is in the dataset. \n",
    "\n",
    "Does the dataset have missing values, or if it is time-series data, does it have time period gaps? Has a bias been introduced that may change your assumptions or affect your results?\n",
    "\n",
    "Completeness issues can occur at the row level (gaps within the dataset) or the field level (one entry missing). At the field level, entire fields can being empty, or >80% of a field's data missing. \n",
    "\n",
    "Another issue that may occur is default values. A typical example of this is where a logger sends back a 0 instead of a null value, which can greatly skew any attempts at modelling. This is where it is instrumental to employ domain knowledge when assessing a dataset. \n",
    "\n",
    "- **Measured by**: A measure of the absence of blank (null) values or the presence of non-blank values;\n",
    "- **Units**: Percentage;\n",
    "- **Related to**: Validity and Accuracy."
   ]
  },
  {
   "cell_type": "markdown",
   "metadata": {},
   "source": [
    "### Missing values\n",
    "\n",
    "> ℹ️ **Instructions** ℹ️\n",
    ">\n",
    "> Write code to identify and count the number of missing values (nulls) in the dataset. Include a percentage to describe the proportion of missing values per column. Output the results in the following manner:\n",
    ">\n",
    "> `There are <number_of_missing_values> (<percentage>) null values in <column_name> column`\n",
    ">\n",
    ">*You may use as many coding cells as necessary.*"
   ]
  },
  {
   "cell_type": "code",
   "execution_count": 74,
   "metadata": {},
   "outputs": [
    {
     "name": "stdout",
     "output_type": "stream",
     "text": [
      "There are 0 (0.00%) null values in date column\n",
      "There are 0 (0.00%) null values in open column\n",
      "There are 0 (0.00%) null values in high column\n",
      "There are 22 (0.43%) null values in low column\n",
      "There are 0 (0.00%) null values in close column\n",
      "There are 0 (0.00%) null values in adj_close column\n",
      "There are 21 (0.41%) null values in volume column\n",
      "There are 0 (0.00%) null values in stock column\n",
      "+----+----+----+---+-----+---------+------+-----+\n",
      "|date|open|high|low|close|adj_close|volume|stock|\n",
      "+----+----+----+---+-----+---------+------+-----+\n",
      "|   0|   0|   0| 22|    0|        0|    21|    0|\n",
      "+----+----+----+---+-----+---------+------+-----+\n",
      "\n"
     ]
    }
   ],
   "source": [
    "from pyspark.sql.functions import isnull, when, count\n",
    "\n",
    "# Count the number of missing values in each column\n",
    "null_counts = [df.where(isnull(c)).count() for c in df.columns] \n",
    "\n",
    "\n",
    "# Calculate the percentage of missing values in each column\n",
    "null_percentage = [c / df.count() * 100 for c in null_counts]\n",
    "\n",
    "# Print the results\n",
    "for c, n, p in zip(df.columns, null_counts, null_percentage):\n",
    "    print(f\"There are {n} ({p:.2f}%) null values in {c} column\") \n",
    "    \n",
    "\n",
    "from pyspark.sql.functions import col,isnan, when, count\n",
    "df.select([count(when(isnan(c) | col(c).isNull(), c)).alias(c) for c in df.columns]\n",
    "   ).show()"
   ]
  },
  {
   "cell_type": "markdown",
   "metadata": {},
   "source": [
    "### Columns with missing values"
   ]
  },
  {
   "cell_type": "markdown",
   "metadata": {},
   "source": [
    "\n",
    "> ℹ️ **Instructions** ℹ️\n",
    ">\n",
    "> From the above result, probe the columns that are affected by the missing data to find out which stocks were affected.\n",
    ">\n",
    ">*You may use as many coding cells as necessary.*"
   ]
  },
  {
   "cell_type": "code",
   "execution_count": 75,
   "metadata": {},
   "outputs": [
    {
     "name": "stdout",
     "output_type": "stream",
     "text": [
      "+----+----+----+---+-----+---------+------+-----+\n",
      "|date|open|high|low|close|adj_close|volume|stock|\n",
      "+----+----+----+---+-----+---------+------+-----+\n",
      "+----+----+----+---+-----+---------+------+-----+\n",
      "\n"
     ]
    }
   ],
   "source": [
    "#TODO: Write your code here\n",
    "from pyspark.sql.functions import isnull\n",
    "\n",
    "# Filter the data frame to include only the rows with missing values for the \"high\" column\n",
    "missing_high = df.where(isnull(df[\"high\"]))\n",
    "\n",
    "# Show the filtered data frame\n",
    "missing_high.show()"
   ]
  },
  {
   "cell_type": "markdown",
   "metadata": {},
   "source": [
    "#### Fix Completeness\n",
    "\n",
    "How do we deal with incomplete data?\n",
    "- Dropping missing values\n",
    "- Discard the incomplete column\n",
    "- Discard the rows containing missing data\n",
    "- Case deletion\n",
    "\n",
    "> ℹ️ **Instructions** ℹ️\n",
    ">\n",
    "> Use the appropriate strategy to remedy the missing data. \n",
    ">\n",
    ">*You may use as many coding cells as necessary.*"
   ]
  },
  {
   "cell_type": "code",
   "execution_count": 76,
   "metadata": {},
   "outputs": [],
   "source": [
    "#TODO: Write your code here \n",
    "\n",
    "df = df.dropna()"
   ]
  },
  {
   "cell_type": "markdown",
   "metadata": {},
   "source": [
    "### Zero Values\n",
    "\n",
    "Take a deeper look into the entries with many zero values."
   ]
  },
  {
   "cell_type": "markdown",
   "metadata": {},
   "source": [
    "#### Fix Completeness\n",
    "\n",
    "Completeness issues can be fixed through imputation of the missing data through:\n",
    "- imputation by mean/mode/median;\n",
    "- regression; or\n",
    "- KNN.\n",
    " \n",
    "> ℹ️ **Instructions** ℹ️\n",
    ">\n",
    "> Write code to identify and count the number of zeros (0) in the dataset. Include a percentage to describe the proportion of missing values per column. Output the results in the following manner:\n",
    ">\n",
    "> `There are <number_of_zeros> (<percentage>) zero values in <column_name> column`\n",
    ">\n",
    ">*You may use as many coding cells as necessary.*"
   ]
  },
  {
   "cell_type": "code",
   "execution_count": 8,
   "metadata": {},
   "outputs": [
    {
     "name": "stdout",
     "output_type": "stream",
     "text": [
      "There are 0 (0.00%) zero values in date column\n",
      "There are 2768 (54.21%) zero values in open column\n",
      "There are 20 (0.39%) zero values in high column\n",
      "There are 0 (0.00%) zero values in low column\n",
      "There are 0 (0.00%) zero values in close column\n",
      "There are 0 (0.00%) zero values in adj_close column\n",
      "There are 27 (0.53%) zero values in volume column\n",
      "There are 0 (0.00%) zero values in stock column\n"
     ]
    }
   ],
   "source": [
    "#TODO: Write your code here\n",
    "\n",
    "from pyspark.sql.functions import when\n",
    "\n",
    "for col in df.columns:\n",
    "    zero_count = df.where(df[col] == 0.0).count()\n",
    "    zero_percentage = zero_count / df.count() * 100\n",
    "    print(f\"There are {zero_count} ({zero_percentage:.2f}%) zero values in {col} column\")"
   ]
  },
  {
   "cell_type": "markdown",
   "metadata": {},
   "source": [
    "From the above section, you find that there are a few columns that contain zero values. However, some of these are true zeros and are explainable. Your task is to distinguish which column should undergo data imputation.\n",
    "\n",
    "> ℹ️ **Instructions** ℹ️\n",
    ">\n",
    "> Investigate the columns with zero values and determine which one should undergo data imputation. Take note of the stock and month on which zero values occurred.\n",
    ">\n",
    ">*You may use as many coding cells as necessary.*"
   ]
  },
  {
   "cell_type": "code",
   "execution_count": 11,
   "metadata": {
    "scrolled": true
   },
   "outputs": [
    {
     "name": "stdout",
     "output_type": "stream",
     "text": [
      "+----------+------------------+----+------------------+------------------+------------------+--------+-----+\n",
      "|      date|              open|high|               low|             close|         adj_close|  volume|stock|\n",
      "+----------+------------------+----+------------------+------------------+------------------+--------+-----+\n",
      "|1962-11-05|1.4114583730697632| 0.0|1.4114583730697632|            1.4375|0.1262047439813614|172800.0|  CAT|\n",
      "|1962-11-12|          1.453125| 0.0|1.4427083730697632|1.4583333730697632|0.1280337274074554| 96000.0|  CAT|\n",
      "|1962-11-08|1.4583333730697632| 0.0|1.4427083730697632|1.4583333730697632|0.1280337274074554|129600.0|  CAT|\n",
      "|1962-11-01|1.3697916269302368| 0.0|1.3697916269302368|1.4010416269302368|0.1230039000511169|136800.0|  CAT|\n",
      "|1962-11-29|1.5052083730697632| 0.0|1.5052083730697632|1.5052083730697632|0.1321491301059723|132000.0|  CAT|\n",
      "|1962-11-28|               1.5| 0.0|1.4947916269302368|1.5052083730697632|0.1321491301059723|177600.0|  CAT|\n",
      "|1962-11-30|1.5052083730697632| 0.0|1.5052083730697632|1.5052083730697632|0.1321491301059723|124800.0|  CAT|\n",
      "|1962-11-26|               1.5| 0.0|1.4947916269302368|               1.5|0.1316918730735778|187200.0|  CAT|\n",
      "|1962-11-02|1.4010416269302368| 0.0|1.3958333730697632|1.4114583730697632|0.1239184588193893|211200.0|  CAT|\n",
      "|1962-11-21|               1.5| 0.0|1.4947916269302368|               1.5|0.1316918730735778|105600.0|  CAT|\n",
      "|1962-11-15|1.5052083730697632| 0.0|1.4947916269302368|               1.5|0.1316918730735778|187200.0|  CAT|\n",
      "|1962-11-16|               1.5| 0.0|1.4947916269302368|               1.5|0.1316918730735778|127200.0|  CAT|\n",
      "|1962-11-20|               1.5| 0.0|1.4947916269302368|               1.5|0.1316918730735778|112800.0|  CAT|\n",
      "|1962-11-09|          1.453125| 0.0|            1.4375|          1.453125| 0.127576470375061|120000.0|  CAT|\n",
      "|1962-11-19|               1.5| 0.0|1.4895833730697632|               1.5|0.1316918730735778|112800.0|  CAT|\n",
      "|1962-11-23|               1.5| 0.0|1.4947916269302368|               1.5|0.1316918730735778|228000.0|  CAT|\n",
      "|1962-11-27|               1.5| 0.0|          1.484375|               1.5|0.1316918730735778|165600.0|  CAT|\n",
      "|1962-11-14|          1.484375| 0.0|1.4791666269302368|1.5052083730697632|0.1321491301059723|261600.0|  CAT|\n",
      "|1962-11-13|1.4583333730697632| 0.0|          1.453125|          1.484375|0.1303201019763946|216000.0|  CAT|\n",
      "|1962-11-07|            1.4375| 0.0|            1.4375|1.4583333730697632|0.1280337274074554|182400.0|  CAT|\n",
      "+----------+------------------+----+------------------+------------------+------------------+--------+-----+\n",
      "\n"
     ]
    }
   ],
   "source": [
    "#TODO: Write your code here\n",
    "#Here's an example code:\n",
    "\n",
    "#Filter the dataframe based on the \"open\" column\n",
    "\n",
    "df_filtered = df.filter(df[\"high\"] == 0.0)\n",
    "\n",
    "\n",
    "\n",
    "#Show the filtered dataframe\n",
    "df_filtered.show(50) \n",
    "\n"
   ]
  },
  {
   "cell_type": "markdown",
   "metadata": {},
   "source": [
    "> ℹ️ **Instructions** ℹ️\n",
    ">\n",
    "> Once you have identified the column that needs to undergo imputation, update the values for the affected records by using the average value for the affected stock.\n",
    ">\n",
    ">*You may use as many coding cells as necessary.*"
   ]
  },
  {
   "cell_type": "code",
   "execution_count": 14,
   "metadata": {
    "scrolled": true
   },
   "outputs": [
    {
     "name": "stdout",
     "output_type": "stream",
     "text": [
      "the average is 1.5146933372678428\n",
      "+----------+------------------+------------------+------------------+------------------+--------------------+---------+-----+\n",
      "|      date|              open|              high|               low|             close|           adj_close|   volume|stock|\n",
      "+----------+------------------+------------------+------------------+------------------+--------------------+---------+-----+\n",
      "|1962-02-19| 5.839290142059326| 5.907374858856201| 5.839290142059326| 5.863319873809815|  1.3863292932510376|  29900.0|   AA|\n",
      "|1962-02-19| 5.481634140014648|5.5284857749938965| 5.481634140014648| 5.516772747039795|  1.2804527282714844|  32000.0| ARNC|\n",
      "|1962-02-19|0.9074074029922484|0.9156378507614136|0.8991769552230835| 0.903292179107666|  0.1614154428243637| 619400.0|   BA|\n",
      "|1962-02-19|1.6770833730697632|1.6927083730697632|1.6614583730697632|1.6770833730697632|  0.1440587043762207| 170400.0|  CAT|\n",
      "|1962-02-19|               0.0|3.5788691043853764|              20.0| 3.549107074737549|  0.0565012246370315| 273600.0|  CVX|\n",
      "|1962-02-19|0.0997673943638801|0.0997673943638801|0.0982085317373275|0.0982085317373275|   0.037543412297964| 817400.0|  DIS|\n",
      "|1962-02-19|               0.0|           29.9375|             29.75|           29.9375|  0.4996414482593536|   1600.0|  DTE|\n",
      "|1962-02-19|               0.0|          9.921875|          9.890625|          9.921875|  0.2249917536973952|   8800.0|   ED|\n",
      "|1962-02-19|               0.0| 7.083333492279053| 7.020833492279053| 7.020833492279053|  0.9129652380943298|  20400.0|   FL|\n",
      "|1962-02-19|0.7737379670143127|0.7774940133094788|0.7637219429016113|0.7674779891967773|  0.0018262817757204|1557500.0|   GE|\n",
      "|1962-02-19|               0.0|           10.9375|             10.75|           10.9375|  1.9131780862808228|  22800.0|   GT|\n",
      "|1962-02-19|0.1126461774110794|0.1139766424894332|0.1126461774110794|0.1130896657705307|  0.0062723471783101| 591800.0|  HPQ|\n",
      "|1962-02-19| 7.260000228881836| 7.293333530426025| 7.173333168029785| 7.186666488647461|  0.5825691223144531| 280000.0|  IBM|\n",
      "|1962-02-19|               0.0|   9.0038480758667| 8.822562217712402| 8.882990837097168|  0.7784165143966675|  39300.0|   IP|\n",
      "|1962-02-19|               0.0|0.2320601791143417|0.2320601791143417|0.2320601791143417|6.541048946928639...|  43200.0|  JNJ|\n",
      "|1962-02-19|0.2415364533662796|0.2434895783662796|0.2415364533662796|0.2434895783662796|  0.0039230370894074| 345600.0|   KO|\n",
      "|1962-02-19|               0.0|0.1788194477558136|0.1762152761220932|0.1770833283662796|  0.0002167469356209| 460800.0|   MO|\n",
      "|1962-02-19|               0.0|             280.0|           276.875|           279.375|  124.94374084472656|    600.0|  NAV|\n",
      "|1962-02-19|               0.0|         1.2734375|          1.265625|          1.265625|  0.0120115065947175| 281600.0|   PG|\n",
      "|1962-02-19|               0.0|        1.74609375|         1.7109375|        1.73828125|  0.0154947629198431|1657600.0|  XOM|\n",
      "+----------+------------------+------------------+------------------+------------------+--------------------+---------+-----+\n",
      "only showing top 20 rows\n",
      "\n"
     ]
    }
   ],
   "source": [
    "#TODO: Write your code here\n",
    "from pyspark.sql.functions import *\n",
    "\n",
    "# average of high, where stock = CAT and high != 0.0\n",
    "cat_high_avg = df.filter((df['stock'] == 'CAT') & (df['high'] != 0.0)).agg(avg(\"high\")).collect()[0][0] \n",
    "\n",
    "## collect()[0][0] extracts the value in this now df that we created\n",
    "print(f\"the average is {cat_high_avg}\")\n",
    "\n",
    "# replace the zero values with the average\n",
    "df_replaced = df.withColumn('high', when(df['high'] == 0.0, cat_high_avg).otherwise(df['high']))\n",
    "\n",
    "df_replaced.where(df_replaced[\"high\"] == 0.0).count()\n",
    "df_replaced.show()\n",
    "\n",
    "\n",
    "\n",
    "\n"
   ]
  },
  {
   "cell_type": "markdown",
   "metadata": {},
   "source": [
    "\n",
    "## Consistency\n",
    "\n",
    "Consistency is the absence of difference when comparing two or more representations of a thing against a reference.\n",
    "\n",
    "Data entries that refer to the same record or entity have to be consistent across all entries, e.g., if you are dealing with records from a logger in the field, the entries for that logger have to remain consistent, and the name or primary key of that logger cannot change from one entry to another. \n",
    "\n",
    "For example, 'Logger1', 'Loger1' and 'Logge1' are examples of inconsistent keys. \n",
    "\n",
    "This is not just within a single table but also becomes more important if you are dealing with relational data. In which case, the mappings between tables and systems must be consistent. If not, the relationships will be completely lost between the tables and referential integrity compromised. \n",
    "\n",
    "- **Measured by**: Analysis of pattern and/or value frequency;\n",
    "- **Units**: Percentage;\n",
    "- **Related to**: Accuracy, Validity, and Uniqueness."
   ]
  },
  {
   "cell_type": "markdown",
   "metadata": {},
   "source": [
    "> ℹ️ **Instructions** ℹ️\n",
    ">\n",
    "> There currently exists a stock that has inconsistent naming. Make use of the metadata to determine which stock is inconsistently named, then update the dataframe appropriately to get rid of this inconsistency.\n",
    ">\n",
    ">*You may use as many coding cells as necessary.*"
   ]
  },
  {
   "cell_type": "code",
   "execution_count": 39,
   "metadata": {},
   "outputs": [
    {
     "name": "stdout",
     "output_type": "stream",
     "text": [
      "The following stocks are not in df_Meta:\n",
      "+----------+-----------------+------------------+-----------------+------------------+------------------+-------+-----+\n",
      "|      date|             open|              high|              low|             close|         adj_close| volume|stock|\n",
      "+----------+-----------------+------------------+-----------------+------------------+------------------+-------+-----+\n",
      "|1962-07-20|5.106821537017822| 5.247376441955566|5.086319446563722| 5.141960144042969| 1.199828028678894|27700.0|ARNCA|\n",
      "|1962-07-25|5.013118267059326| 5.013118267059326| 4.87256383895874| 4.989692687988281|1.1642980575561523|64600.0|ARNCA|\n",
      "|1962-07-03|5.083395957946777| 5.247376441955566|5.083395957946777| 5.223950386047363|1.2189610004425049|98800.0|ARNCA|\n",
      "|1962-07-09|5.305940628051758| 5.341079235076903|5.200524806976318| 5.341079235076903|1.2462913990020752|92400.0|ARNCA|\n",
      "|1962-07-17|5.235663414001465| 5.235663414001465|5.059969902038574| 5.059969902038574|1.1806968450546265|26200.0|ARNCA|\n",
      "|1962-07-18|5.059969902038574| 5.200524806976318|4.966266632080078| 5.165386199951172| 1.205294132232666|41200.0|ARNCA|\n",
      "|1962-07-27|5.048257350921631| 5.247376441955566|5.048257350921631| 5.247376441955566| 1.224426507949829|46900.0|ARNCA|\n",
      "|1962-07-31|5.376218318939209| 5.481634140014648|5.376218318939209| 5.458208560943604|1.2736223936080933|94500.0|ARNCA|\n",
      "|1962-07-02|4.919415473937988| 5.200524806976318|4.919415473937988| 5.083395957946777|1.1861634254455566|90300.0|ARNCA|\n",
      "|1962-07-16|5.282515048980713| 5.282515048980713| 5.21223783493042| 5.235663414001465|  1.22169291973114|27700.0|ARNCA|\n",
      "|1962-07-11| 5.25908899307251|5.3645052909851065|5.200524806976318| 5.341079235076903|1.2462913990020752|36900.0|ARNCA|\n",
      "|1962-07-24|5.083395957946777| 5.118534564971924|5.036544322967528| 5.036544322967528|1.1752303838729858|27700.0|ARNCA|\n",
      "|1962-07-13|5.329366683959961| 5.341079235076903|5.294228076934815|5.3176536560058585|1.2408252954483032|38400.0|ARNCA|\n",
      "|1962-07-19|5.165386199951172| 5.247376441955566|5.106821537017822| 5.106821537017822|1.1916292905807495|60400.0|ARNCA|\n",
      "|1962-07-06|5.387930870056152| 5.387930870056152|5.294228076934815| 5.305940628051758|1.2380927801132202|68900.0|ARNCA|\n",
      "|1962-07-12|5.341079235076903| 5.387930870056152|5.294228076934815| 5.329366683959961|1.2435581684112549|75300.0|ARNCA|\n",
      "|1962-07-26|5.024831295013428| 5.130247592926025|5.024831295013428| 5.036544322967528|1.1752303838729858|57600.0|ARNCA|\n",
      "|1962-07-05|5.223950386047363|   5.4347825050354| 5.21223783493042|   5.4347825050354|  1.26815664768219|66100.0|ARNCA|\n",
      "|1962-07-30|5.247376441955566| 5.411356925964356|5.247376441955566| 5.329366683959961|1.2435581684112549|54000.0|ARNCA|\n",
      "|1962-07-23|5.141960144042969| 5.141960144042969|5.083395957946777| 5.083395957946777|1.1861634254455566|30500.0|ARNCA|\n",
      "|1962-07-10|5.341079235076903|5.5284857749938965|5.247376441955566|  5.25908899307251| 1.227160096168518|64600.0|ARNCA|\n",
      "+----------+-----------------+------------------+-----------------+------------------+------------------+-------+-----+\n",
      "\n"
     ]
    }
   ],
   "source": [
    "### import pandas as pd\n",
    "from pyspark.sql.functions import col\n",
    "\n",
    "# Create a list of distinct stock values from df\n",
    "stock_values = [x.Symbol for x in df_Meta.select('Symbol').distinct().collect()]\n",
    "\n",
    "# Filter df_Meta to find stocks not in Symbol column\n",
    "missing_stocks = df.filter(~col('stock').isin(stock_values))\n",
    "\n",
    "# Check if any stocks are missing and show them\n",
    "if missing_stocks.count() > 0:\n",
    "    print(\"The following stocks are not in df_Meta:\")\n",
    "    missing_stocks.show(50)\n",
    "else:\n",
    "    print(\"All stocks in df are in df_Meta\")\n",
    "\n",
    "missing_stocks.count() \n",
    "\n",
    "#we then drop the arnca \n",
    "df = df.filter(df.stock != \"ARNCA\")\n"
   ]
  },
  {
   "cell_type": "markdown",
   "metadata": {},
   "source": [
    "## Timeliness\n",
    "\n",
    "Timeliness is the degree to which data represent reality from the required point in time.\n",
    "\n",
    "Timeliness expects that the data within your dataset is sufficiently up to date. If you are trying to answer questions that relate to recent problems, having timely data is extremely important. For example, you cannot use current flight patterns to model how many aeroplanes will be required by a large aeronautics company within the next 5-10 years. \n",
    "\n",
    "Similarly, when answering questions that require real-time answers (e.g., predicting when a pipe will burst in a manufacturing plant), you have to be set up to receive real-time data from sensors and loggers. \n",
    "\n",
    "- **Measured by**: Time difference;\n",
    "- **Units**: Time;\n",
    "- **Related to**: Accuracy because it will decay as time progress. "
   ]
  },
  {
   "cell_type": "markdown",
   "metadata": {},
   "source": [
    "It is important to see the latest value for each of the stocks that we are looking at:"
   ]
  },
  {
   "cell_type": "code",
   "execution_count": 48,
   "metadata": {},
   "outputs": [
    {
     "name": "stdout",
     "output_type": "stream",
     "text": [
      "+-----+----------+\n",
      "|stock| max(Date)|\n",
      "+-----+----------+\n",
      "|   AA|1962-12-31|\n",
      "| ARNC|1962-12-31|\n",
      "|ARNCA|1962-07-31|\n",
      "|   BA|1962-12-31|\n",
      "|  CAT|1962-12-31|\n",
      "|  CVX|1962-12-31|\n",
      "|  DIS|1962-12-31|\n",
      "|  DTE|1962-12-31|\n",
      "|   ED|1962-12-31|\n",
      "|   FL|1962-12-31|\n",
      "|   GE|1962-12-31|\n",
      "|   GT|1962-12-31|\n",
      "|  HPQ|1962-12-31|\n",
      "|  IBM|1962-12-31|\n",
      "|   IP|1962-12-31|\n",
      "|  JNJ|1962-12-31|\n",
      "|   KO|1962-12-31|\n",
      "|   MO|1962-12-31|\n",
      "|  NAV|1962-12-31|\n",
      "|   PG|1962-12-31|\n",
      "+-----+----------+\n",
      "only showing top 20 rows\n",
      "\n"
     ]
    }
   ],
   "source": [
    "df.groupBy('stock').agg(F.max('Date')).show()"
   ]
  },
  {
   "cell_type": "markdown",
   "metadata": {},
   "source": [
    "Sometimes, some of these axes of data quality will be less important than others. \n",
    "This is one of those cases where it is less important to have timely data, since \n",
    "we are trying to create a training dataset for a stock market prediction algorithm. \n",
    "\n",
    "It is important to know the context in which you are doing your modelling. "
   ]
  },
  {
   "cell_type": "markdown",
   "metadata": {},
   "source": [
    "### Gaps in the dataset\n",
    "\n",
    "Let's see if we can find inconsistencies in the time series by having a look at the number of entries for each of the tickers.\n",
    " \n",
    "> ℹ️ **Instructions** ℹ️\n",
    ">\n",
    "> Uncomment and use the below code to determine which dates had entries that were not equal to 20. You may have to change the name of the dataframe to see the resultant output\n",
    ">\n",
    ">*You may use as many coding cells as necessary.*"
   ]
  },
  {
   "cell_type": "code",
   "execution_count": 41,
   "metadata": {},
   "outputs": [
    {
     "name": "stdout",
     "output_type": "stream",
     "text": [
      "+----------+-----+\n",
      "|      date|count|\n",
      "+----------+-----+\n",
      "|1962-02-15|   23|\n",
      "|1962-02-28|   23|\n",
      "|1962-09-21|   21|\n",
      "|1962-09-25|   21|\n",
      "|1962-02-05|   23|\n",
      "|1962-09-14|   21|\n",
      "|1962-09-07|   21|\n",
      "|1962-09-24|   21|\n",
      "|1962-09-05|   21|\n",
      "|1962-09-17|   21|\n",
      "|1962-02-01|   23|\n",
      "|1962-09-11|   21|\n",
      "|1962-07-25|   19|\n",
      "|1962-02-20|   23|\n",
      "|1962-09-26|   21|\n",
      "|1962-09-20|   21|\n",
      "|1962-02-13|   23|\n",
      "|1962-02-02|   23|\n",
      "|1962-09-13|   21|\n",
      "|1962-02-08|   23|\n",
      "|1962-02-23|   23|\n",
      "|1962-02-16|   23|\n",
      "|1962-02-06|   23|\n",
      "|1962-02-14|   23|\n",
      "|1962-07-20|   19|\n",
      "|1962-09-10|   21|\n",
      "|1962-02-19|   23|\n",
      "|1962-09-06|   21|\n",
      "|1962-02-26|   23|\n",
      "|1962-02-09|   23|\n",
      "|1962-09-18|   21|\n",
      "|1962-02-21|   23|\n",
      "|1962-02-12|   23|\n",
      "|1962-09-27|   21|\n",
      "|1962-02-07|   23|\n",
      "|1962-02-27|   23|\n",
      "|1962-09-04|   21|\n",
      "|1962-09-28|   21|\n",
      "|1962-09-19|   21|\n",
      "|1962-09-12|   21|\n",
      "|1962-07-11|   19|\n",
      "|1962-12-04|   19|\n",
      "|1962-07-09|   19|\n",
      "|1962-07-02|   19|\n",
      "|1962-07-03|   19|\n",
      "|1962-12-07|   19|\n",
      "|1962-12-12|   19|\n",
      "|1962-07-23|   19|\n",
      "|1962-07-31|   19|\n",
      "|1962-07-24|   19|\n",
      "|1962-07-10|   19|\n",
      "|1962-12-06|   19|\n",
      "|1962-07-06|   19|\n",
      "|1962-12-14|   19|\n",
      "|1962-07-27|   19|\n",
      "|1962-12-05|   19|\n",
      "|1962-07-05|   19|\n",
      "|1962-12-17|   19|\n",
      "|1962-07-26|   19|\n",
      "|1962-12-13|   19|\n",
      "|1962-07-13|   19|\n",
      "|1962-07-18|   19|\n",
      "|1962-07-16|   19|\n",
      "|1962-07-19|   19|\n",
      "|1962-07-12|   19|\n",
      "|1962-12-11|   19|\n",
      "|1962-07-30|   19|\n",
      "|1962-12-10|   19|\n",
      "|1962-07-17|   19|\n",
      "+----------+-----+\n",
      "\n"
     ]
    }
   ],
   "source": [
    "not_equal_20=df.orderBy('date').groupby('date').count().where(F.col('count') != 20).show(400)"
   ]
  },
  {
   "cell_type": "markdown",
   "metadata": {},
   "source": [
    "> ℹ️ **Instructions** ℹ️\n",
    ">\n",
    "> From the above result, investigate the number of times a stock appears for the given month. You can infer the months by using the output of the previous cell.\n",
    ">\n",
    ">*You may use as many coding cells as necessary.*"
   ]
  },
  {
   "cell_type": "code",
   "execution_count": 63,
   "metadata": {},
   "outputs": [
    {
     "name": "stdout",
     "output_type": "stream",
     "text": [
      "+-----+---+---+---+---+---+---+----+---+---+---+---+---+\n",
      "|stock|  1|  2|  3|  4|  5|  6|   7|  8|  9| 10| 11| 12|\n",
      "+-----+---+---+---+---+---+---+----+---+---+---+---+---+\n",
      "|   AA| 22| 19| 22| 20| 22| 21|  21| 23| 19| 23| 20| 20|\n",
      "|  XOM| 22| 19| 22| 20| 22| 21|  21| 23| 19| 23| 20| 20|\n",
      "|  DIS| 22| 19| 22| 20| 22| 21|  21| 23| 19| 23| 20| 20|\n",
      "|   PG| 22| 19| 22| 20| 22| 21|  21| 23| 19| 23| 20| 20|\n",
      "|   GT| 22| 19| 22| 20| 22| 21|  21| 23| 19| 23| 20| 20|\n",
      "|   MO| 22| 19| 22| 20| 22| 21|  21| 23| 19| 23| 20| 20|\n",
      "|  IBM| 22| 19| 22| 20| 22| 21|  21| 23| 19| 23| 20| 20|\n",
      "|  JNJ| 22| 19| 22| 20| 22| 21|  21| 23| 19| 23| 20| 20|\n",
      "|  CVX| 22| 19| 22| 20| 22| 21|  21| 23| 19| 23| 20| 20|\n",
      "|  DTE| 22| 19| 22| 20| 22| 21|  21| 23| 19| 23| 20| 20|\n",
      "|   BA| 22| 19| 22| 20| 22| 21|  21| 23| 19| 23| 20| 10|\n",
      "|   GE| 22| 19| 22| 20| 22| 21|  21| 23| 19| 23| 20| 20|\n",
      "|  HPQ| 22| 76| 22| 20| 22| 21|  21| 23| 19| 23| 20| 20|\n",
      "| ARNC| 22| 19| 22| 20| 22| 21|null| 23| 19| 23| 20| 20|\n",
      "|  CAT| 22| 19| 22| 20| 22| 21|  21| 23| 19| 23| 20| 20|\n",
      "|   IP| 22| 19| 22| 20| 22| 21|  21| 23| 19| 23| 20| 20|\n",
      "|   FL| 22| 19| 22| 20| 22| 21|  21| 23| 19| 23| 20| 20|\n",
      "|   ED| 22| 19| 22| 20| 22| 21|  21| 23| 38| 23| 20| 20|\n",
      "|  NAV| 22| 19| 22| 20| 22| 21|  21| 23| 19| 23| 20| 20|\n",
      "|   KO| 22| 19| 22| 20| 22| 21|  21| 23| 19| 23| 20| 20|\n",
      "+-----+---+---+---+---+---+---+----+---+---+---+---+---+\n",
      "\n"
     ]
    }
   ],
   "source": [
    "from pyspark.sql.functions import month, count\n",
    "\n",
    "# Group the data by stock and month and count the number of times each stock appears for each month\n",
    "stocks_monthly_count = df.groupBy(\"stock\", month(\"date\").alias(\"month\")).agg(count(\"*\").alias(\"count\")).orderBy(\"stock\", \"month\")\n",
    "\n",
    "# Pivot the DataFrame so that each stock is a row and each month is a column\n",
    "pivoted_stocks_monthly_count = stocks_monthly_count.groupBy(\"stock\").pivot(\"month\").sum(\"count\")\n",
    "\n",
    "# Show the results\n",
    "pivoted_stocks_monthly_count.show()\n",
    "\n",
    "\n",
    "\n",
    "\n",
    "\n"
   ]
  },
  {
   "cell_type": "markdown",
   "metadata": {},
   "source": [
    "## Uniqueness\n",
    "\n",
    "Uniqueness requires that nothing will be recorded more than once based upon how that thing is identified. It is the inverse of an assessment of the level of duplication.\n",
    "\n",
    "Each entry within the dataset should only relate to a single event that has occurred and thus should not be duplicated. This is largely mediated by having the appropriate primary key, which means sticking to the requirements of a good primary key. All fields in the tables should be non-transitively dependent on the primary key.\n",
    "\n",
    "As such, deduplication of the dataset may be required. \n",
    "\n",
    "- **Measured by**: Analysis of the number of things assessed in the “real world” compared to the number of records of things in the dataset. This requires a reference dataset which is the ground truth;\n",
    "- **Units**: Percentage;\n",
    "- **Related to**: Consistency."
   ]
  },
  {
   "cell_type": "markdown",
   "metadata": {},
   "source": [
    "### Duplication Test\n",
    "For time-series data, it is important to check for duplications, as we typically expect all values to be unique within the dataset.\n",
    "\n",
    "The first thing to check will be if the primary key values within the dataset are unique - in our case, that will be a combination of the stock name and the date.\n",
    "\n",
    "Secondly, we want to check if the entries are all unique, which is done by checking for duplicates across that whole dataset."
   ]
  },
  {
   "cell_type": "markdown",
   "metadata": {},
   "source": [
    "> ℹ️ **Instructions** ℹ️\n",
    ">\n",
    "> Write code to determine if there are any duplicates within the data, and then proceed to correct this by dropping them from the dataframe.\n",
    ">\n",
    ">*You may use as many coding cells as necessary.*"
   ]
  },
  {
   "cell_type": "code",
   "execution_count": 66,
   "metadata": {},
   "outputs": [
    {
     "name": "stdout",
     "output_type": "stream",
     "text": [
      "+----------+-------------------+-------------------+-------------------+-------------------+--------------------+---------+-----+\n",
      "|      date|               open|               high|                low|              close|           adj_close|   volume|stock|\n",
      "+----------+-------------------+-------------------+-------------------+-------------------+--------------------+---------+-----+\n",
      "|1962-02-19|                0.0| 0.1788194477558136| 0.1762152761220932| 0.1770833283662796|  0.0002167469356209| 460800.0|   MO|\n",
      "|1962-02-06| 0.0947790220379829|   0.09540256857872| 0.0941554754972458| 0.0941554754972458|  0.0359939709305763| 233500.0|  DIS|\n",
      "|1962-09-12|                0.0|             7.1875|            7.03125|             7.1875|  1.2750608921051023|  36400.0|   GT|\n",
      "|1962-09-24| 0.6358024477958679| 0.6358024477958679| 0.6090534925460815| 0.6213991641998291| 0.11370149254798888|1293600.0|   BA|\n",
      "|1962-09-04|                0.0|  3.467261791229248|             3.4375| 3.4598214626312256| 0.05603888630867005|  56000.0|  CVX|\n",
      "|1962-05-24|0.07669618725776672|0.07856682687997818|0.07669618725776672|0.07669618725776672|0.029395639896392826| 583800.0|  DIS|\n",
      "|1962-01-25|                0.0| 3.2663691043853764| 3.2291667461395264| 3.2291667461395264| 0.05093618482351303| 136000.0|  CVX|\n",
      "|1962-04-24|                0.0|        0.154296875| 0.1532118022441864| 0.1532118022441864|0.000189273036085...| 806400.0|   MO|\n",
      "|1962-01-31| 0.1210724636912346| 0.1210724636912346|0.11885501444339752| 0.1210724636912346|0.006715100724250078| 563700.0|  HPQ|\n",
      "|1962-01-05|                0.0|         1.39453125|         1.36328125|        1.380859375|0.013047998771071434| 544000.0|   PG|\n",
      "|1962-01-24|0.12151595205068587|0.12151595205068587|0.11885501444339752| 0.1206289753317833|0.006690503098070...| 338200.0|  HPQ|\n",
      "|1962-01-11|                0.0|            9.96875|           9.890625|           9.921875| 0.22278954088687894|  25600.0|   ED|\n",
      "|1962-01-18|                0.0|  8.278705596923826|  8.036992073059082|  8.188063621520996|  0.7175202369689941|  69700.0|   IP|\n",
      "|1962-01-22|                0.0|0.21296297013759613|0.21238425374031067|0.21238425374031067|5.972228223072307...| 172800.0|  JNJ|\n",
      "|1962-12-31| 1.5416666269302368|             1.5625| 1.5260416269302368| 1.5572916269302368| 0.13672174513339996|  98400.0|  CAT|\n",
      "+----------+-------------------+-------------------+-------------------+-------------------+--------------------+---------+-----+\n",
      "only showing top 15 rows\n",
      "\n"
     ]
    }
   ],
   "source": [
    "#TODO: Write your code here \n",
    "\n",
    "#Identify if there are any duplicate primary keys\n",
    "duplicate_identified=df.select( \"date\",\"stock\").distinct().count() == df.count()\n",
    "\n",
    "#If we have duplicate entries, we'll drop the duplicates\n",
    "df=df.dropDuplicates() \n",
    "df.show(15)"
   ]
  },
  {
   "cell_type": "markdown",
   "metadata": {},
   "source": [
    "## Validity\n",
    "Data is valid if it conforms to the syntax (format, type, range) of its definition.\n",
    "\n",
    "Certain values within a field may have specific criteria required to make it valid, e.g., numerical columns cannot contain alphabetical characters, which can occur due to scientific notation.\n",
    "\n",
    "This can be more difficult to determine in stings, in which case you may have to check using regex. \n",
    "\n",
    "- **Measured by**: Comparison between the data and metadata or documentation for the data item;\n",
    "- **Units**: Percentage of data items deemed Valid or Invalid;\n",
    "- **Related to**: Accuracy, Completeness, Consistency, and Uniqueness."
   ]
  },
  {
   "cell_type": "markdown",
   "metadata": {},
   "source": [
    "We need to first define what we expect from our dataset:\n",
    "\n",
    "- stock: string (nullable = true) => Should be contained in the list of expected tickers\n",
    "- date: date (nullable = true) => Should conform to date format, and be in the past\n",
    "- open: double (nullable = true) => Should be positive or 0\n",
    "- high: double (nullable = true) => Should be positive or 0\n",
    "- low: double (nullable = true) => Should be positive or 0 (should be < high)\n",
    "- close: double (nullable = true) => Should be positive or 0 (should be <= high )\n",
    "- adj_close: double (nullable = true) => Should be positive or 0\n",
    "- volume: integer (nullable = true) => Should be positive or 0\n",
    "- high_avg: double (nullable = true) => Derived (not needed to test)\n",
    "- high_imp: double (nullable = true) => Derived (not needed to test)\n",
    "- day_of_week: string (nullable = true) => Derived (not needed to test)\n",
    "\n",
    "*Is there any other logic that we can incorporate?*"
   ]
  },
  {
   "cell_type": "markdown",
   "metadata": {},
   "source": [
    "> ℹ️ **Instructions** ℹ️\n",
    ">\n",
    "> Use the metadata to check if all the stocks in your current dataframe are valid. In other words, make sure you have no foreign/unknown tickers in your dataframe.\n",
    ">\n",
    ">*You may use as many coding cells as necessary.*\n"
   ]
  },
  {
   "cell_type": "code",
   "execution_count": 51,
   "metadata": {},
   "outputs": [
    {
     "name": "stdout",
     "output_type": "stream",
     "text": [
      "All tickers in the current DataFrame are valid\n"
     ]
    }
   ],
   "source": [
    "from pyspark.sql.functions import col\n",
    "\n",
    "# Join the current DataFrame with the metadata DataFrame on the \"stock\" column\n",
    "joined_data = df.join(df_Meta, df.stock == df_Meta.Symbol, \"left\")\n",
    "\n",
    "# Check if the join result contains any null values in the \"Symbol\" column\n",
    "if joined_data.filter(col(\"Symbol\").isNull()).count() > 0:\n",
    "    print(\"There are invalid tickers in the current DataFrame\")\n",
    "else:\n",
    "    print(\"All tickers in the current DataFrame are valid\")\n",
    "\n",
    "\n",
    "\n"
   ]
  },
  {
   "cell_type": "markdown",
   "metadata": {},
   "source": [
    "> ℹ️ **Instructions** ℹ️\n",
    ">\n",
    ">\n",
    ">Check if the date column contains only valid dates and all dates are in the past.\n",
    ">\n",
    ">*Valid dates should already be checked in the data reading step.*"
   ]
  },
  {
   "cell_type": "code",
   "execution_count": 52,
   "metadata": {},
   "outputs": [
    {
     "name": "stdout",
     "output_type": "stream",
     "text": [
      "All rows in the DataFrame have valid dates in the date column.\n",
      "All dates in the DataFrame are in the past or today.\n",
      "Earliest date in DataFrame: 1962-01-02\n",
      "Latest date in DataFrame: 1962-12-31\n"
     ]
    }
   ],
   "source": [
    "#TODO: Write your code here \n",
    "from pyspark.sql.functions import to_date, col, year, month, dayofmonth, current_date\n",
    "\n",
    "# Convert the \"date\" column to a date type\n",
    "df = df.withColumn(\"date\", to_date(col(\"date\"), \"yyyy-MM-dd\"))\n",
    "\n",
    "# Check if any rows have null values in the \"date\" column\n",
    "null_count = df.filter(col(\"date\").isNull()).count()\n",
    "if null_count > 0:\n",
    "    print(\"Error: DataFrame contains\", null_count, \"rows with null values in the date column.\")\n",
    "else:\n",
    "    print(\"All rows in the DataFrame have valid dates in the date column.\")\n",
    "\n",
    "# Check if any dates are in the future\n",
    "today = current_date()\n",
    "future_count = df.filter(col(\"date\") > today).count()\n",
    "if future_count > 0:\n",
    "    print(\"Error: DataFrame contains\", future_count, \"rows with dates in the future.\")\n",
    "else:\n",
    "    print(\"All dates in the DataFrame are in the past or today.\")\n",
    "\n",
    "# Check the earliest and latest dates in the DataFrame\n",
    "earliest_date = df.agg({\"date\": \"min\"}).collect()[0][0]\n",
    "latest_date = df.agg({\"date\": \"max\"}).collect()[0][0]\n",
    "print(\"Earliest date in DataFrame:\", earliest_date)\n",
    "print(\"Latest date in DataFrame:\", latest_date)\n"
   ]
  },
  {
   "cell_type": "markdown",
   "metadata": {},
   "source": [
    "> ℹ️ **Instructions** ℹ️\n",
    ">\n",
    ">Check that all of numerical columns are positive."
   ]
  },
  {
   "cell_type": "code",
   "execution_count": 53,
   "metadata": {},
   "outputs": [
    {
     "name": "stdout",
     "output_type": "stream",
     "text": [
      "All numerical columns in the DataFrame have positive values.\n"
     ]
    }
   ],
   "source": [
    "#TODO: Write your code here \n",
    "from pyspark.sql.functions import col, count, when\n",
    "\n",
    "# Check if any of the numerical columns have negative values\n",
    "negative_cols = []\n",
    "for c in df.columns:\n",
    "    if c not in [\"ticker\", \"date\"]:\n",
    "        negative_count = df.filter(col(c) < 0).count()\n",
    "        if negative_count > 0:\n",
    "            negative_cols.append(c)\n",
    "if len(negative_cols) > 0:\n",
    "    print(\"Error: The following columns have negative values:\", negative_cols)\n",
    "else:\n",
    "    print(\"All numerical columns in the DataFrame have positive values.\")\n"
   ]
  },
  {
   "cell_type": "markdown",
   "metadata": {},
   "source": [
    "### Save Updates\n",
    "\n",
    "With our initial work of checking the various dimensions of the data quality completed, we can now save these results to a CSV file.  "
   ]
  },
  {
   "cell_type": "code",
   "execution_count": 56,
   "metadata": {},
   "outputs": [],
   "source": [
    "pd_df = df.toPandas()"
   ]
  },
  {
   "cell_type": "code",
   "execution_count": 57,
   "metadata": {},
   "outputs": [],
   "source": [
    "pd_df.to_csv('Kamo_Mogoba_data_profiling.csv')"
   ]
  }
 ],
 "metadata": {
  "kernelspec": {
   "display_name": "Python 3 (ipykernel)",
   "language": "python",
   "name": "python3"
  },
  "language_info": {
   "codemirror_mode": {
    "name": "ipython",
    "version": 3
   },
   "file_extension": ".py",
   "mimetype": "text/x-python",
   "name": "python",
   "nbconvert_exporter": "python",
   "pygments_lexer": "ipython3",
   "version": "3.9.13"
  },
  "vscode": {
   "interpreter": {
    "hash": "c13d34d4f3624c3e5ad779e6746a0c0301823969be11f029d934c20b6a6468c1"
   }
  }
 },
 "nbformat": 4,
 "nbformat_minor": 2
}
